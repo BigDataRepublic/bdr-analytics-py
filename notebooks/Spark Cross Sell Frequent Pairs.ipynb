{
 "cells": [
  {
   "cell_type": "markdown",
   "metadata": {},
   "source": [
    "# Recommendations based on frequent pairs\n",
    "\n",
    "This notebook shows how to calculate frequent pairs based on shopping lists, using a scoring function that is relevant for recommendatins."
   ]
  },
  {
   "cell_type": "markdown",
   "metadata": {},
   "source": [
    "## Generating artificial shopping lists"
   ]
  },
  {
   "cell_type": "code",
   "execution_count": 39,
   "metadata": {
    "collapsed": false
   },
   "outputs": [],
   "source": [
    "import numpy as np\n",
    "from itertools import groupby, permutations, chain, islice\n",
    "from operator import itemgetter, add\n",
    "\n",
    "def get_random_element(x):\n",
    "    if x is None:\n",
    "        return -1\n",
    "    else:\n",
    "        return x[np.random.randint(len(x))]\n",
    "\n",
    "def split_every(n, iterable):\n",
    "    i = iter(iterable)\n",
    "    piece = list(islice(i, n))\n",
    "    while piece:\n",
    "        yield piece\n",
    "        piece = list(islice(i, n))\n"
   ]
  },
  {
   "cell_type": "markdown",
   "metadata": {},
   "source": [
    "Let's generate some random shopping lists:"
   ]
  },
  {
   "cell_type": "code",
   "execution_count": 40,
   "metadata": {
    "collapsed": true
   },
   "outputs": [],
   "source": [
    "num_unique_items =   5000\n",
    "num_paired_items =    100\n",
    "num_bought_items = 250000"
   ]
  },
  {
   "cell_type": "markdown",
   "metadata": {},
   "source": [
    "Select some random pairs which are usually bought together"
   ]
  },
  {
   "cell_type": "code",
   "execution_count": 41,
   "metadata": {
    "collapsed": false
   },
   "outputs": [
    {
     "name": "stdout",
     "output_type": "stream",
     "text": [
      "We generate example pairs which will always be bought together. Some examples:\n"
     ]
    },
    {
     "data": {
      "text/plain": [
       "[(2048, [2804]), (3086, [1164]), (22, [4816]), (547, [3575]), (41, [2330])]"
      ]
     },
     "execution_count": 41,
     "metadata": {},
     "output_type": "execute_result"
    }
   ],
   "source": [
    "test_givenpairs = np.random.randint(num_unique_items, size=(num_paired_items, 2))\n",
    "test_pair_dict = dict([(k, [itemgetter(1)(f) for f in v]) for k, v in groupby(sorted(test_givenpairs,key=itemgetter(0)), key = itemgetter(0))])\n",
    "print \"We generate example pairs which will always be bought together. Some examples:\"\n",
    "test_pair_dict.items()[0:5]"
   ]
  },
  {
   "cell_type": "markdown",
   "metadata": {},
   "source": [
    "Determine the items that are bought. By running them modulo their index, we create an exponential distribution"
   ]
  },
  {
   "cell_type": "code",
   "execution_count": 42,
   "metadata": {
    "collapsed": true
   },
   "outputs": [],
   "source": [
    "test_purchases_bought = [j % (i+1) for i, j in enumerate(np.random.randint(num_unique_items, size=(num_bought_items)))]"
   ]
  },
  {
   "cell_type": "markdown",
   "metadata": {},
   "source": [
    "Now map all bought items to a random item which is by our definition bought together. If one is available"
   ]
  },
  {
   "cell_type": "code",
   "execution_count": 43,
   "metadata": {
    "collapsed": false
   },
   "outputs": [],
   "source": [
    "vectorized_select_paired_items = np.vectorize(test_pair_dict.get)\n",
    "vectorized_select_random_item = np.vectorize(get_random_element)\n",
    "test_purchases_added = ( \n",
    "    vectorized_select_random_item(  # select one item random from the list of paired items\n",
    "        vectorized_select_paired_items(  # map them to the list of paired items\n",
    "            test_purchases_bought # the items we bought\n",
    "        )\n",
    "    ))\n",
    "test_purchases_pairs = np.transpose(np.vstack((test_purchases_bought, test_purchases_added)))\n",
    "np.random.shuffle(test_purchases_pairs)"
   ]
  },
  {
   "cell_type": "markdown",
   "metadata": {},
   "source": [
    "Given these pairs, we unravel it to create one long list, which is then splitted into different shopping baskets"
   ]
  },
  {
   "cell_type": "code",
   "execution_count": 44,
   "metadata": {
    "collapsed": false
   },
   "outputs": [
    {
     "name": "stdout",
     "output_type": "stream",
     "text": [
      "Each few items are joined together to form a list. Because some items are removed, lists have variable length. Some examples:\n",
      "[[266, 2538, 3794, 4274], [1099, 4111, 4177], [1442, 3249, 4480], [3652, 3769, 4565], [347, 1253, 2298]]\n",
      "Total number of generated shopping lists = 83334\n"
     ]
    }
   ],
   "source": [
    "test_sequence = test_purchases_pairs.ravel()\n",
    "test_shopping_baskets = [nonempty for nonempty in [np.unique(a[a>0]).tolist() for a in [np.array(a) for a in list(split_every(6, test_sequence))]] if len(nonempty)>0]\n",
    "print \"Each few items are joined together to form a list. Because some items are removed, lists have variable length. Some examples:\"\n",
    "print test_shopping_baskets[0:5]\n",
    "print \"Total number of generated shopping lists = {}\".format(len(test_shopping_baskets))"
   ]
  },
  {
   "cell_type": "markdown",
   "metadata": {},
   "source": [
    "## Step 0: Loading the data in spark"
   ]
  },
  {
   "cell_type": "code",
   "execution_count": 45,
   "metadata": {
    "collapsed": false
   },
   "outputs": [
    {
     "name": "stdout",
     "output_type": "stream",
     "text": [
      "There are in total 83334 shopping lists\n"
     ]
    }
   ],
   "source": [
    "shopping_baskets = sc.parallelize(test_shopping_baskets)\n",
    "shopping_baskets_count = shopping_baskets.count()\n",
    "print \"There are in total {} shopping lists\".format(shopping_baskets_count)"
   ]
  },
  {
   "cell_type": "markdown",
   "metadata": {},
   "source": [
    "## Step 1: Calculating item frequencies"
   ]
  },
  {
   "cell_type": "markdown",
   "metadata": {},
   "source": [
    "Getting item buy frequency. While the shopping lists do not have to fit in memory, a list of unique items should"
   ]
  },
  {
   "cell_type": "code",
   "execution_count": 46,
   "metadata": {
    "collapsed": false
   },
   "outputs": [],
   "source": [
    "def check_uniqueness(t):\n",
    "    if len(set(t))!=len(t):\n",
    "        raise ValueError(\"Items in a transaction must be unique but got {}\".format(t))\n",
    "        return t\n",
    "    else:\n",
    "        return t\n",
    "item_freq = dict(shopping_baskets.flatMap(check_uniqueness).map(lambda v: (v, 1L)).reduceByKey(add).collect())\n"
   ]
  },
  {
   "cell_type": "code",
   "execution_count": 47,
   "metadata": {
    "collapsed": false
   },
   "outputs": [
    {
     "name": "stdout",
     "output_type": "stream",
     "text": [
      "The most popular item is bought in 126 shopping baskets\n",
      "As example, the first few items with their frequencies:\n",
      "[(1, 60L), (2, 59L), (3, 53L), (4, 69L), (5, 50L)]\n"
     ]
    }
   ],
   "source": [
    "print \"The most popular item is bought in {} shopping baskets\".format(max(item_freq.values()))\n",
    "print \"As example, the first few items with their frequencies:\"\n",
    "print item_freq.items()[0:5]"
   ]
  },
  {
   "cell_type": "markdown",
   "metadata": {},
   "source": [
    "## Step 2: Calculating item pair scores"
   ]
  },
  {
   "cell_type": "code",
   "execution_count": 48,
   "metadata": {
    "collapsed": false
   },
   "outputs": [],
   "source": [
    "from __future__ import division\n",
    "def calculate_score( xy, xy_count):\n",
    "    \"\"\"\n",
    "    xy is a tuple of item ids\n",
    "    xy_count is the observation count\n",
    "    calculates:\n",
    "      x and y / x\n",
    "      / \n",
    "    not x and y / not x\"\"\"\n",
    "    x_item, y_item = xy\n",
    "    x = item_freq[x_item]\n",
    "    y = item_freq[y_item]\n",
    "    notx = shopping_baskets_count - x\n",
    "    x_y = xy_count\n",
    "    notx_y = y - x_y\n",
    "    if notx_y==0:\n",
    "        return (xy, np.Inf)\n",
    "    else:\n",
    "        return (xy, (notx/x) * (x_y/notx_y))\n",
    "    \n",
    "def all_pairs(x):\n",
    "    return list(permutations(x, 2)) # permutations also generates the pairs with _1 and _2 flipped\n",
    "        \n",
    "def as_key_with_value(i):\n",
    "    def as_key(x):\n",
    "        return x, i\n",
    "    return as_key"
   ]
  },
  {
   "cell_type": "code",
   "execution_count": 49,
   "metadata": {
    "collapsed": false
   },
   "outputs": [],
   "source": [
    "pairs = shopping_baskets\\\n",
    "            .flatMap(all_pairs)\\\n",
    "            .map(as_key_with_value(1))\\\n",
    "            .reduceByKey(add)\\\n",
    "            .map(lambda x:calculate_score(*x))\\\n",
    "            .cache()"
   ]
  },
  {
   "cell_type": "markdown",
   "metadata": {},
   "source": [
    "Now we have the score for every pair of products ever bought"
   ]
  },
  {
   "cell_type": "code",
   "execution_count": 50,
   "metadata": {
    "collapsed": false
   },
   "outputs": [
    {
     "name": "stdout",
     "output_type": "stream",
     "text": [
      "There are in total 513862 pairs of bought products\n",
      "The first few pairs with their score:\n"
     ]
    },
    {
     "data": {
      "text/plain": [
       "[((3075, 3343), 41.066074950690336),\n",
       " ((4171, 535), 41.3125),\n",
       " ((2261, 2169), 26.089598997493734),\n",
       " ((810, 3728), 42.48877551020408),\n",
       " ((4785, 2165), 29.65811965811966),\n",
       " ((2635, 4663), 17.135802469135804),\n",
       " ((112, 4246), 41.647),\n",
       " ((4649, 717), 26.0531914893617),\n",
       " ((2514, 2968), 31.7472359893252),\n",
       " ((607, 3139), 39.06801125703565)]"
      ]
     },
     "execution_count": 50,
     "metadata": {},
     "output_type": "execute_result"
    }
   ],
   "source": [
    "pairs_count = pairs.count()\n",
    "print \"There are in total {} pairs of bought products\".format(pairs_count)\n",
    "print \"The first few pairs with their score:\"\n",
    "pairs.take(10)"
   ]
  },
  {
   "cell_type": "markdown",
   "metadata": {},
   "source": [
    "## Step 3, Option 1: Selecting pairs based on score threshold"
   ]
  },
  {
   "cell_type": "markdown",
   "metadata": {},
   "source": [
    "As context, let's get the histogram"
   ]
  },
  {
   "cell_type": "code",
   "execution_count": 61,
   "metadata": {
    "collapsed": false
   },
   "outputs": [
    {
     "data": {
      "text/plain": [
       "([5.683559866129364,\n",
       "  250.08873329128113,\n",
       "  494.4939067164329,\n",
       "  738.8990801415846,\n",
       "  983.3042535667364,\n",
       "  1227.7094269918882,\n",
       "  1472.1146004170398,\n",
       "  1716.5197738421916,\n",
       "  1960.9249472673434,\n",
       "  2205.330120692495,\n",
       "  2449.735294117647],\n",
       " [513662, 0, 0, 4, 4, 17, 43, 24, 9, 2])"
      ]
     },
     "execution_count": 61,
     "metadata": {},
     "output_type": "execute_result"
    }
   ],
   "source": [
    "pairs.map(lambda k_v:k_v[1]).filter(lambda score: not np.isinf(score)).histogram(10)"
   ]
  },
  {
   "cell_type": "code",
   "execution_count": 62,
   "metadata": {
    "collapsed": false
   },
   "outputs": [
    {
     "name": "stdout",
     "output_type": "stream",
     "text": [
      "The number of frequent pairs = 200\n"
     ]
    }
   ],
   "source": [
    "frequent_pairs = pairs.filter(lambda k_v:k_v[1]>250).collect()\n",
    "print \"The number of frequent pairs = {}\".format(len(frequent_pairs))"
   ]
  },
  {
   "cell_type": "code",
   "execution_count": 52,
   "metadata": {
    "collapsed": false
   },
   "outputs": [
    {
     "data": {
      "text/plain": [
       "[((4257, 2061), 1321.952380952381),\n",
       " ((3627, 479), 930.1998710509349),\n",
       " ((2061, 4257), inf),\n",
       " ((547, 3575), 1665.88),\n",
       " ((2926, 1436), inf)]"
      ]
     },
     "execution_count": 52,
     "metadata": {},
     "output_type": "execute_result"
    }
   ],
   "source": [
    "frequent_pairs[0:5]"
   ]
  },
  {
   "cell_type": "markdown",
   "metadata": {},
   "source": [
    "## Step 3, Option 2: Selecting top N scoring cross selling items."
   ]
  },
  {
   "cell_type": "markdown",
   "metadata": {},
   "source": [
    "Here we define some helper functions to keep the highest N co occurring items"
   ]
  },
  {
   "cell_type": "code",
   "execution_count": 53,
   "metadata": {
    "collapsed": false
   },
   "outputs": [],
   "source": [
    "def aggregate_zero():\n",
    "    return []\n",
    "\n",
    "def aggregate_seq(n):\n",
    "    def sequenceadd(seq, item):\n",
    "        seq.append(item)\n",
    "        seq.sort(key=lambda x:x[1], reverse=True)\n",
    "        return seq[0:n]\n",
    "    return sequenceadd\n",
    "\n",
    "def aggregate_combine(n):\n",
    "    def combine(seq1, seq2):\n",
    "        return sorted(seq1+seq2, key=lambda x:x[1], reverse=True)[0:n]\n",
    "    return combine"
   ]
  },
  {
   "cell_type": "markdown",
   "metadata": {},
   "source": [
    "Instead of hard thresholds, we can just find the most cross sellable product for each product. Some examples:"
   ]
  },
  {
   "cell_type": "code",
   "execution_count": 54,
   "metadata": {
    "collapsed": false
   },
   "outputs": [],
   "source": [
    "item_with_cross_sells = pairs\\\n",
    "    .map(lambda kv: (kv[0][0], (kv[0][1], kv[1])))\\\n",
    "    .aggregateByKey(aggregate_zero(), aggregate_seq(5), aggregate_combine(5)).cache()"
   ]
  },
  {
   "cell_type": "code",
   "execution_count": 55,
   "metadata": {
    "collapsed": false
   },
   "outputs": [
    {
     "data": {
      "text/plain": [
       "[(2048,\n",
       "  [(2804, 2191.3947368421054),\n",
       "   (3589, 53.53455480552877),\n",
       "   (3468, 44.03648863035431),\n",
       "   (2428, 44.03648863035431),\n",
       "   (4481, 42.66034836065574)]),\n",
       " (3072,\n",
       "  [(63, 57.431724137931035),\n",
       "   (1603, 55.222811671087534),\n",
       "   (2161, 53.17752234993614),\n",
       "   (1396, 51.278325123152705),\n",
       "   (3171, 41.02266009852217)]),\n",
       " (8,\n",
       "  [(4082, 60.69825072886297),\n",
       "   (897, 41.30853174603175),\n",
       "   (4982, 38.13095238095238),\n",
       "   (4459, 38.13095238095238),\n",
       "   (1525, 36.27090592334495)]),\n",
       " (16,\n",
       "  [(2027, 54.422222222222224),\n",
       "   (599, 42.224137931034484),\n",
       "   (1828, 40.81666666666666),\n",
       "   (1460, 38.265625),\n",
       "   (3584, 34.98571428571429)]),\n",
       " (344,\n",
       "  [(636, 59.140625),\n",
       "   (3622, 56.56929347826087),\n",
       "   (2246, 50.042067307692314),\n",
       "   (4331, 44.10487288135593),\n",
       "   (3839, 37.17410714285714)])]"
      ]
     },
     "execution_count": 55,
     "metadata": {},
     "output_type": "execute_result"
    }
   ],
   "source": [
    "item_with_cross_sells.take(5)"
   ]
  },
  {
   "cell_type": "markdown",
   "metadata": {},
   "source": [
    "Let's find a perfect pair, one with score infinity"
   ]
  },
  {
   "cell_type": "code",
   "execution_count": 56,
   "metadata": {
    "collapsed": false
   },
   "outputs": [
    {
     "data": {
      "text/plain": [
       "((2061, 4257), inf)"
      ]
     },
     "execution_count": 56,
     "metadata": {},
     "output_type": "execute_result"
    }
   ],
   "source": [
    "perfect_pair = pairs.filter(lambda x: np.isinf(x[1])).take(1)[0]\n",
    "perfect_pair"
   ]
  },
  {
   "cell_type": "markdown",
   "metadata": {},
   "source": [
    "And show with which other items that occurs:"
   ]
  },
  {
   "cell_type": "code",
   "execution_count": 57,
   "metadata": {
    "collapsed": false
   },
   "outputs": [
    {
     "data": {
      "text/plain": [
       "[[(4257, inf),\n",
       "  (1971, 39.45945945945946),\n",
       "  (2047, 30.416666666666664),\n",
       "  (3390, 28.07692307692308),\n",
       "  (2232, 25.17241379310345)]]"
      ]
     },
     "execution_count": 57,
     "metadata": {},
     "output_type": "execute_result"
    }
   ],
   "source": [
    "item_with_cross_sells.lookup(perfect_pair[0][0])"
   ]
  }
 ],
 "metadata": {
  "anaconda-cloud": {},
  "kernelspec": {
   "display_name": "Python [bdranalytics]",
   "language": "python",
   "name": "Python [bdranalytics]"
  },
  "language_info": {
   "codemirror_mode": {
    "name": "ipython",
    "version": 2
   },
   "file_extension": ".py",
   "mimetype": "text/x-python",
   "name": "python",
   "nbconvert_exporter": "python",
   "pygments_lexer": "ipython2",
   "version": "2.7.12"
  }
 },
 "nbformat": 4,
 "nbformat_minor": 0
}
