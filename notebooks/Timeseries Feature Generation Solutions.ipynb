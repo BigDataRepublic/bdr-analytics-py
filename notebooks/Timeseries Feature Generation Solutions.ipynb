{
 "cells": [
  {
   "cell_type": "markdown",
   "metadata": {},
   "source": [
    "Please provide the folder containing the soi.dat and recruit.dat datasets:"
   ]
  },
  {
   "cell_type": "code",
   "execution_count": 1,
   "metadata": {
    "collapsed": true
   },
   "outputs": [],
   "source": [
    "datafolder = \"../data\""
   ]
  },
  {
   "cell_type": "code",
   "execution_count": 2,
   "metadata": {
    "collapsed": false
   },
   "outputs": [
    {
     "data": {
      "text/plain": [
       "'/Users/gerben/Projects/bdr-analytics-py/notebooks'"
      ]
     },
     "execution_count": 2,
     "metadata": {},
     "output_type": "execute_result"
    }
   ],
   "source": [
    "import os\n",
    "os.getcwd()"
   ]
  },
  {
   "cell_type": "markdown",
   "metadata": {},
   "source": [
    "Let me check if you provided the correct folder:"
   ]
  },
  {
   "cell_type": "code",
   "execution_count": 3,
   "metadata": {
    "collapsed": false
   },
   "outputs": [],
   "source": [
    "import os\n",
    "has_soi = sum([name.endswith(\"soi.dat\") for name in os.listdir(datafolder)])\n",
    "has_recruit = sum([name.endswith(\"recruit.dat\") for name in os.listdir(datafolder)])"
   ]
  },
  {
   "cell_type": "code",
   "execution_count": 4,
   "metadata": {
    "collapsed": false
   },
   "outputs": [
    {
     "name": "stdout",
     "output_type": "stream",
     "text": [
      "You are ready to go\n"
     ]
    }
   ],
   "source": [
    "if (has_soi and has_recruit):\n",
    "    print 'You are ready to go'\n",
    "else:\n",
    "    print 'Found files:'\n",
    "    print os.listdir(datafolder)\n",
    "    print ''\n",
    "if not has_soi:\n",
    "    print 'You are missing soi.dat'\n",
    "if not has_recruit:\n",
    "    print 'You are missing recruit.dat'"
   ]
  },
  {
   "cell_type": "markdown",
   "metadata": {},
   "source": [
    "## Setup\n",
    "The following blocks setup some common functions and load the data.\n",
    "You can skip it for now:"
   ]
  },
  {
   "cell_type": "code",
   "execution_count": 5,
   "metadata": {
    "collapsed": false
   },
   "outputs": [
    {
     "name": "stdout",
     "output_type": "stream",
     "text": [
      "IPython version: 5.1.0\n",
      "statsmodels: 0.6.1\n",
      "numpy: 1.12.0\n",
      "scipy: 0.18.1\n",
      "sklearn: 0.18.1\n",
      "pandas: 0.19.2\n"
     ]
    }
   ],
   "source": [
    "import matplotlib\n",
    "import matplotlib.pyplot as plt\n",
    "%matplotlib inline\n",
    "matplotlib.style.use('ggplot')\n",
    "#%load_ext autoreload\n",
    "#%autoreload 1\n",
    "#%aimport bdranalytics\n",
    "import bdranalytics\n",
    "import pandas as pd\n",
    "import numpy as np\n",
    "import os\n",
    "import scipy as sc\n",
    "from scipy.ndimage.interpolation import shift\n",
    "import sklearn\n",
    "from sklearn import linear_model, model_selection # in old versions use cross_validation\n",
    "from sklearn.model_selection import GridSearchCV\n",
    "from sklearn.pipeline import Pipeline, FeatureUnion\n",
    "from sklearn.base import BaseEstimator, TransformerMixin\n",
    "from sklearn.preprocessing import Imputer\n",
    "from sklearn.linear_model import Ridge, ElasticNet\n",
    "from sklearn.feature_selection import RFE\n",
    "from sklearn.metrics import mean_squared_error\n",
    "import itertools\n",
    "from sklearn.metrics import make_scorer, r2_score\n",
    "from sklearn.metrics.scorer import r2_scorer, mean_squared_error_scorer\n",
    "import statsmodels\n",
    "from statsmodels.tsa.api import VAR\n",
    "from bdranalytics.model_selection.growingwindow import GrowingWindow\n",
    "from IPython.display import display\n",
    "import IPython\n",
    "print \"IPython version: {}\".format(IPython.__version__)\n",
    "print \"statsmodels: {}\".format(statsmodels.__version__)\n",
    "print \"numpy: {}\".format(np.__version__)\n",
    "print \"scipy: {}\".format(sc.__version__)\n",
    "print \"sklearn: {}\".format(sklearn.__version__)\n",
    "print \"pandas: {}\".format(pd.__version__)"
   ]
  },
  {
   "cell_type": "code",
   "execution_count": 6,
   "metadata": {
    "collapsed": false,
    "scrolled": true
   },
   "outputs": [],
   "source": [
    "X_orig = pd.read_csv(os.path.join(datafolder, \"soi.dat\"), header=0, names=[\"soi\"])\n",
    "rng=pd.date_range('1/1/1866', periods=X_orig.size, freq='MS')\n",
    "X_orig = X_orig.set_index(rng)\n",
    "y_orig = pd.read_csv(os.path.join(datafolder, \"recruit.dat\"), header=0, names=[\"recruit\"]).set_index(rng).iloc[:,0]"
   ]
  },
  {
   "cell_type": "markdown",
   "metadata": {},
   "source": [
    "## Some data details"
   ]
  },
  {
   "cell_type": "code",
   "execution_count": 7,
   "metadata": {
    "collapsed": false
   },
   "outputs": [
    {
     "name": "stdout",
     "output_type": "stream",
     "text": [
      "(452, 1)\n",
      "(452,)\n",
      "                       soi  recruit\n",
      "1866-01-01 00:00:00  0.246    68.63\n",
      "1866-02-01 00:00:00  0.311    68.63\n",
      "1866-03-01 00:00:00  0.104    68.63\n",
      "1866-04-01 00:00:00 -0.016    68.63\n",
      "1866-05-01 00:00:00  0.235    68.63\n"
     ]
    },
    {
     "data": {
      "text/html": [
       "<div>\n",
       "<table border=\"1\" class=\"dataframe\">\n",
       "  <thead>\n",
       "    <tr style=\"text-align: right;\">\n",
       "      <th></th>\n",
       "      <th>soi</th>\n",
       "      <th>recruit</th>\n",
       "    </tr>\n",
       "  </thead>\n",
       "  <tbody>\n",
       "    <tr>\n",
       "      <th>count</th>\n",
       "      <td>452.000000</td>\n",
       "      <td>452.000000</td>\n",
       "    </tr>\n",
       "    <tr>\n",
       "      <th>mean</th>\n",
       "      <td>0.079381</td>\n",
       "      <td>62.248695</td>\n",
       "    </tr>\n",
       "    <tr>\n",
       "      <th>std</th>\n",
       "      <td>0.382915</td>\n",
       "      <td>28.006504</td>\n",
       "    </tr>\n",
       "    <tr>\n",
       "      <th>min</th>\n",
       "      <td>-1.000000</td>\n",
       "      <td>1.720000</td>\n",
       "    </tr>\n",
       "    <tr>\n",
       "      <th>25%</th>\n",
       "      <td>-0.182750</td>\n",
       "      <td>39.597500</td>\n",
       "    </tr>\n",
       "    <tr>\n",
       "      <th>50%</th>\n",
       "      <td>0.115000</td>\n",
       "      <td>68.625000</td>\n",
       "    </tr>\n",
       "    <tr>\n",
       "      <th>75%</th>\n",
       "      <td>0.366000</td>\n",
       "      <td>86.860000</td>\n",
       "    </tr>\n",
       "    <tr>\n",
       "      <th>max</th>\n",
       "      <td>1.000000</td>\n",
       "      <td>100.000000</td>\n",
       "    </tr>\n",
       "  </tbody>\n",
       "</table>\n",
       "</div>"
      ],
      "text/plain": [
       "              soi     recruit\n",
       "count  452.000000  452.000000\n",
       "mean     0.079381   62.248695\n",
       "std      0.382915   28.006504\n",
       "min     -1.000000    1.720000\n",
       "25%     -0.182750   39.597500\n",
       "50%      0.115000   68.625000\n",
       "75%      0.366000   86.860000\n",
       "max      1.000000  100.000000"
      ]
     },
     "execution_count": 7,
     "metadata": {},
     "output_type": "execute_result"
    }
   ],
   "source": [
    "print X_orig.shape\n",
    "print y_orig.shape\n",
    "print X_orig.join(y_orig).head()\n",
    "X_orig.join(y_orig).describe()"
   ]
  },
  {
   "cell_type": "markdown",
   "metadata": {},
   "source": [
    "## Exercise 1A : Creating features\n",
    "Now we have 'X_orig' and 'y_orig', please create a new X dataframe, and y series.\n",
    "The X dataframe should contain all features used to predict, while the y series should be the target variable.\n",
    "If you use a lagged y to predict y, please use at least lag 1.\n",
    "\n",
    "Documentation details:\n",
    "\n",
    "  * http://pandas.pydata.org/pandas-docs/stable/generated/pandas.DataFrame.shift.html\n",
    "  * http://pandas.pydata.org/pandas-docs/stable/generated/pandas.DataFrame.rolling.html\n"
   ]
  },
  {
   "cell_type": "markdown",
   "metadata": {},
   "source": [
    "### Provided answer:"
   ]
  },
  {
   "cell_type": "code",
   "execution_count": 8,
   "metadata": {
    "collapsed": false
   },
   "outputs": [
    {
     "data": {
      "text/html": [
       "<div>\n",
       "<table border=\"1\" class=\"dataframe\">\n",
       "  <thead>\n",
       "    <tr style=\"text-align: right;\">\n",
       "      <th></th>\n",
       "      <th>soi_window2</th>\n",
       "    </tr>\n",
       "  </thead>\n",
       "  <tbody>\n",
       "    <tr>\n",
       "      <th>1866-01-01 00:00:00</th>\n",
       "      <td>NaN</td>\n",
       "    </tr>\n",
       "    <tr>\n",
       "      <th>1866-02-01 00:00:00</th>\n",
       "      <td>0.311</td>\n",
       "    </tr>\n",
       "    <tr>\n",
       "      <th>1866-03-01 00:00:00</th>\n",
       "      <td>0.311</td>\n",
       "    </tr>\n",
       "    <tr>\n",
       "      <th>1866-04-01 00:00:00</th>\n",
       "      <td>0.104</td>\n",
       "    </tr>\n",
       "    <tr>\n",
       "      <th>1866-05-01 00:00:00</th>\n",
       "      <td>0.235</td>\n",
       "    </tr>\n",
       "  </tbody>\n",
       "</table>\n",
       "</div>"
      ],
      "text/plain": [
       "                     soi_window2\n",
       "1866-01-01 00:00:00          NaN\n",
       "1866-02-01 00:00:00        0.311\n",
       "1866-03-01 00:00:00        0.311\n",
       "1866-04-01 00:00:00        0.104\n",
       "1866-05-01 00:00:00        0.235"
      ]
     },
     "metadata": {},
     "output_type": "display_data"
    },
    {
     "data": {
      "text/html": [
       "<div>\n",
       "<table border=\"1\" class=\"dataframe\">\n",
       "  <thead>\n",
       "    <tr style=\"text-align: right;\">\n",
       "      <th></th>\n",
       "      <th>recruit_lag2</th>\n",
       "    </tr>\n",
       "  </thead>\n",
       "  <tbody>\n",
       "    <tr>\n",
       "      <th>1866-01-01 00:00:00</th>\n",
       "      <td>NaN</td>\n",
       "    </tr>\n",
       "    <tr>\n",
       "      <th>1866-02-01 00:00:00</th>\n",
       "      <td>NaN</td>\n",
       "    </tr>\n",
       "    <tr>\n",
       "      <th>1866-03-01 00:00:00</th>\n",
       "      <td>68.63</td>\n",
       "    </tr>\n",
       "    <tr>\n",
       "      <th>1866-04-01 00:00:00</th>\n",
       "      <td>68.63</td>\n",
       "    </tr>\n",
       "    <tr>\n",
       "      <th>1866-05-01 00:00:00</th>\n",
       "      <td>68.63</td>\n",
       "    </tr>\n",
       "  </tbody>\n",
       "</table>\n",
       "</div>"
      ],
      "text/plain": [
       "                     recruit_lag2\n",
       "1866-01-01 00:00:00           NaN\n",
       "1866-02-01 00:00:00           NaN\n",
       "1866-03-01 00:00:00         68.63\n",
       "1866-04-01 00:00:00         68.63\n",
       "1866-05-01 00:00:00         68.63"
      ]
     },
     "metadata": {},
     "output_type": "display_data"
    },
    {
     "data": {
      "text/html": [
       "<div>\n",
       "<table border=\"1\" class=\"dataframe\">\n",
       "  <thead>\n",
       "    <tr style=\"text-align: right;\">\n",
       "      <th></th>\n",
       "      <th>soi_window2</th>\n",
       "      <th>soi_lag2</th>\n",
       "    </tr>\n",
       "  </thead>\n",
       "  <tbody>\n",
       "    <tr>\n",
       "      <th>1866-01-01 00:00:00</th>\n",
       "      <td>NaN</td>\n",
       "      <td>NaN</td>\n",
       "    </tr>\n",
       "    <tr>\n",
       "      <th>1866-02-01 00:00:00</th>\n",
       "      <td>0.311</td>\n",
       "      <td>NaN</td>\n",
       "    </tr>\n",
       "    <tr>\n",
       "      <th>1866-03-01 00:00:00</th>\n",
       "      <td>0.311</td>\n",
       "      <td>0.246</td>\n",
       "    </tr>\n",
       "    <tr>\n",
       "      <th>1866-04-01 00:00:00</th>\n",
       "      <td>0.104</td>\n",
       "      <td>0.311</td>\n",
       "    </tr>\n",
       "    <tr>\n",
       "      <th>1866-05-01 00:00:00</th>\n",
       "      <td>0.235</td>\n",
       "      <td>0.104</td>\n",
       "    </tr>\n",
       "  </tbody>\n",
       "</table>\n",
       "</div>"
      ],
      "text/plain": [
       "                     soi_window2  soi_lag2\n",
       "1866-01-01 00:00:00          NaN       NaN\n",
       "1866-02-01 00:00:00        0.311       NaN\n",
       "1866-03-01 00:00:00        0.311     0.246\n",
       "1866-04-01 00:00:00        0.104     0.311\n",
       "1866-05-01 00:00:00        0.235     0.104"
      ]
     },
     "metadata": {},
     "output_type": "display_data"
    },
    {
     "data": {
      "text/html": [
       "<div>\n",
       "<table border=\"1\" class=\"dataframe\">\n",
       "  <thead>\n",
       "    <tr style=\"text-align: right;\">\n",
       "      <th></th>\n",
       "      <th>soi_window2_lag2</th>\n",
       "    </tr>\n",
       "  </thead>\n",
       "  <tbody>\n",
       "    <tr>\n",
       "      <th>1866-01-01 00:00:00</th>\n",
       "      <td>NaN</td>\n",
       "    </tr>\n",
       "    <tr>\n",
       "      <th>1866-02-01 00:00:00</th>\n",
       "      <td>NaN</td>\n",
       "    </tr>\n",
       "    <tr>\n",
       "      <th>1866-03-01 00:00:00</th>\n",
       "      <td>NaN</td>\n",
       "    </tr>\n",
       "    <tr>\n",
       "      <th>1866-04-01 00:00:00</th>\n",
       "      <td>0.311</td>\n",
       "    </tr>\n",
       "    <tr>\n",
       "      <th>1866-05-01 00:00:00</th>\n",
       "      <td>0.311</td>\n",
       "    </tr>\n",
       "  </tbody>\n",
       "</table>\n",
       "</div>"
      ],
      "text/plain": [
       "                     soi_window2_lag2\n",
       "1866-01-01 00:00:00               NaN\n",
       "1866-02-01 00:00:00               NaN\n",
       "1866-03-01 00:00:00               NaN\n",
       "1866-04-01 00:00:00             0.311\n",
       "1866-05-01 00:00:00             0.311"
      ]
     },
     "metadata": {},
     "output_type": "display_data"
    }
   ],
   "source": [
    "from bdranalytics.pandaspipeline.transformers import PdFeatureChain, PdFeatureUnion, PdWindowTransformer, PdLagTransformer\n",
    "\n",
    "display(PdWindowTransformer(lambda x:x.max(), window=2).fit_transform(X_orig).head())\n",
    "display(PdLagTransformer(2).fit_transform(y_orig.to_frame()).head())\n",
    "display(PdFeatureUnion([\n",
    "        ('windows', PdWindowTransformer(lambda x:x.max(), window=2)),\n",
    "        ('lags', PdLagTransformer(2))\n",
    "        ]\n",
    "                    ).fit_transform(X_orig).head())\n",
    "display(PdFeatureChain([\n",
    "            ('windows', PdWindowTransformer(lambda x:x.max(), window=2)), \n",
    "            ('lags', PdLagTransformer(2))\n",
    "        ]).fit_transform(X_orig).head())"
   ]
  },
  {
   "cell_type": "code",
   "execution_count": 9,
   "metadata": {
    "collapsed": false
   },
   "outputs": [],
   "source": [
    "window_transformers = PdFeatureUnion([\n",
    "        ('window{}'.format(window), PdWindowTransformer(lambda x: x.mean(), window=window)) for window in range(1,12)\n",
    "    ])\n",
    "lag_transformers = PdFeatureUnion([\n",
    "        ('lag{}'.format(lag), PdLagTransformer(lag)) for lag in range(20)])\n",
    "combined_features = PdFeatureChain([\n",
    "        ('windows', window_transformers),\n",
    "        ('lags', lag_transformers)\n",
    "        ])"
   ]
  },
  {
   "cell_type": "code",
   "execution_count": 10,
   "metadata": {
    "collapsed": false
   },
   "outputs": [],
   "source": [
    "X = pd.concat([X_orig,  # the original features\n",
    "               PdLagTransformer(1).fit_transform(y_orig.to_frame()) # the target to predict, lagged by 1\n",
    "              ], axis=1, join_axes=[X_orig.index])\n",
    "X = combined_features.fit_transform(X).dropna() # then wide range of possible windows & lags for all\n",
    "y = y_orig[X.index] # because of dropped rows in X, need to also select corresponding remaining rows from y"
   ]
  },
  {
   "cell_type": "markdown",
   "metadata": {},
   "source": [
    "## Testing your model\n",
    "With a dataset of features (X), and a target variable (y), let's see how well we can predict the recruit."
   ]
  },
  {
   "cell_type": "code",
   "execution_count": 11,
   "metadata": {
    "collapsed": false
   },
   "outputs": [],
   "source": [
    "model_score = mean_squared_error\n",
    "model_scorer = make_scorer(mean_squared_error, greater_is_better=False)\n",
    "\n",
    "def cross_val(estimator, X, y, scorer = model_scorer, cv_count=10):\n",
    "    return model_selection.cross_val_score(pipeline, X, y.to_frame(), \n",
    "                                           scoring = scorer,\n",
    "                                           cv=GrowingWindow(cv_count))\n",
    "\n",
    "def cross_val_train(estimator, X, y, scorer = model_scorer, cv_count=10):\n",
    "    return [scorer(estimator.fit(X.iloc[train,:], y.iloc[train]),\n",
    "                   X.iloc[train,:],\n",
    "                   y.iloc[train])\n",
    "             for train, test in GrowingWindow(cv_count).split(X)]\n",
    "\n",
    "# if you don't have model_selection use the following:\n",
    "def cross_val_for_old(estimator, X, y, scorer = model_scorer, cv_count=10):\n",
    "    return [scorer(estimator.fit(X.iloc[train,:], y.iloc[train]),\n",
    "                   X.iloc[test,:],\n",
    "                   y.iloc[test])\n",
    "             for train, test in GrowingWindow(cv_count).split(X)]"
   ]
  },
  {
   "cell_type": "markdown",
   "metadata": {},
   "source": [
    "First we extract a train & test set from the full dataset"
   ]
  },
  {
   "cell_type": "code",
   "execution_count": 12,
   "metadata": {
    "collapsed": false
   },
   "outputs": [
    {
     "name": "stdout",
     "output_type": "stream",
     "text": [
      "Train datasize = (344, 440), Test datasets = (39, 440) \n"
     ]
    }
   ],
   "source": [
    "i_train, i_test = list(itertools.islice(GrowingWindow(10).split(X), 8, 9))[0]\n",
    "X_train = X.iloc[i_train,:]\n",
    "y_train = y[i_train]\n",
    "\n",
    "X_test = X.iloc[i_test,:]\n",
    "y_test = y[i_test]\n",
    "print \"Train datasize = {}, Test datasets = {} \".format(X_train.shape, X_test.shape)\n",
    "i_subtrain, i_subtest = list(itertools.islice(GrowingWindow(10).split(X_train), 8, 9))[0]"
   ]
  },
  {
   "cell_type": "code",
   "execution_count": 13,
   "metadata": {
    "collapsed": false
   },
   "outputs": [
    {
     "data": {
      "text/plain": [
       "Index([u'soi_window1_lag0', u'recruit_lag1_window1_lag0', u'soi_window2_lag0',\n",
       "       u'recruit_lag1_window2_lag0', u'soi_window3_lag0',\n",
       "       u'recruit_lag1_window3_lag0', u'soi_window4_lag0',\n",
       "       u'recruit_lag1_window4_lag0', u'soi_window5_lag0',\n",
       "       u'recruit_lag1_window5_lag0',\n",
       "       ...\n",
       "       u'soi_window7_lag19', u'recruit_lag1_window7_lag19',\n",
       "       u'soi_window8_lag19', u'recruit_lag1_window8_lag19',\n",
       "       u'soi_window9_lag19', u'recruit_lag1_window9_lag19',\n",
       "       u'soi_window10_lag19', u'recruit_lag1_window10_lag19',\n",
       "       u'soi_window11_lag19', u'recruit_lag1_window11_lag19'],\n",
       "      dtype='object', length=440)"
      ]
     },
     "metadata": {},
     "output_type": "display_data"
    },
    {
     "data": {
      "text/plain": [
       "1868-07-01 00:00:00     9.84\n",
       "1868-08-01 00:00:00     7.82\n",
       "1868-09-01 00:00:00    11.78\n",
       "1868-10-01 00:00:00    10.22\n",
       "1868-11-01 00:00:00    12.19\n",
       "Name: recruit, dtype: float64"
      ]
     },
     "metadata": {},
     "output_type": "display_data"
    },
    {
     "data": {
      "text/html": [
       "<div>\n",
       "<table border=\"1\" class=\"dataframe\">\n",
       "  <thead>\n",
       "    <tr style=\"text-align: right;\">\n",
       "      <th></th>\n",
       "      <th>soi_window1_lag0</th>\n",
       "      <th>recruit_lag1_window1_lag0</th>\n",
       "    </tr>\n",
       "  </thead>\n",
       "  <tbody>\n",
       "    <tr>\n",
       "      <th>1868-07-01 00:00:00</th>\n",
       "      <td>-0.027</td>\n",
       "      <td>12.68</td>\n",
       "    </tr>\n",
       "    <tr>\n",
       "      <th>1868-08-01 00:00:00</th>\n",
       "      <td>-0.038</td>\n",
       "      <td>9.84</td>\n",
       "    </tr>\n",
       "    <tr>\n",
       "      <th>1868-09-01 00:00:00</th>\n",
       "      <td>0.716</td>\n",
       "      <td>7.82</td>\n",
       "    </tr>\n",
       "    <tr>\n",
       "      <th>1868-10-01 00:00:00</th>\n",
       "      <td>0.836</td>\n",
       "      <td>11.78</td>\n",
       "    </tr>\n",
       "    <tr>\n",
       "      <th>1868-11-01 00:00:00</th>\n",
       "      <td>0.891</td>\n",
       "      <td>10.22</td>\n",
       "    </tr>\n",
       "  </tbody>\n",
       "</table>\n",
       "</div>"
      ],
      "text/plain": [
       "                     soi_window1_lag0  recruit_lag1_window1_lag0\n",
       "1868-07-01 00:00:00            -0.027                      12.68\n",
       "1868-08-01 00:00:00            -0.038                       9.84\n",
       "1868-09-01 00:00:00             0.716                       7.82\n",
       "1868-10-01 00:00:00             0.836                      11.78\n",
       "1868-11-01 00:00:00             0.891                      10.22"
      ]
     },
     "metadata": {},
     "output_type": "display_data"
    }
   ],
   "source": [
    "display(X_train.columns)\n",
    "display(y_train.head())\n",
    "display(X_train.iloc[:,0:2].head())"
   ]
  },
  {
   "cell_type": "code",
   "execution_count": 14,
   "metadata": {
    "collapsed": false
   },
   "outputs": [],
   "source": [
    "linear_regression = linear_model.LinearRegression()\n",
    "\n",
    "pipeline = Pipeline([\n",
    "        (\"lm\", linear_regression)\n",
    "    ])"
   ]
  },
  {
   "cell_type": "markdown",
   "metadata": {},
   "source": [
    "For reference, predicting y with the original features (just the soi):"
   ]
  },
  {
   "cell_type": "code",
   "execution_count": 15,
   "metadata": {
    "collapsed": false
   },
   "outputs": [
    {
     "name": "stdout",
     "output_type": "stream",
     "text": [
      "train:\t-733.038610063\n",
      "test:\t-878.145278301\n"
     ]
    }
   ],
   "source": [
    "print \"train:\\t{}\".format(np.mean(cross_val_train(pipeline, X_orig, y_orig, cv_count=10)))\n",
    "print \"test:\\t{}\".format(np.mean(cross_val(pipeline, X_orig, y_orig, cv_count=10)))"
   ]
  },
  {
   "cell_type": "markdown",
   "metadata": {},
   "source": [
    "## The quality of your model:\n",
    "\n",
    "Probably you do much better with your new set of features."
   ]
  },
  {
   "cell_type": "code",
   "execution_count": 16,
   "metadata": {
    "collapsed": false
   },
   "outputs": [
    {
     "name": "stdout",
     "output_type": "stream",
     "text": [
      "train:\t-19.7151578515\n",
      "test:\t-144.828935513\n"
     ]
    }
   ],
   "source": [
    "print \"train:\\t{}\".format(np.mean(cross_val_train(pipeline, X, y, cv_count=10)))\n",
    "print \"test:\\t{}\".format(np.mean(cross_val(pipeline, X, y, cv_count=10)))"
   ]
  },
  {
   "cell_type": "markdown",
   "metadata": {},
   "source": [
    "## Exercise 1B: Choosing a different model\n",
    "Feel free to select a different model, and see if you can increase the performance"
   ]
  },
  {
   "cell_type": "code",
   "execution_count": 17,
   "metadata": {
    "collapsed": false
   },
   "outputs": [
    {
     "name": "stdout",
     "output_type": "stream",
     "text": [
      "train:\t-20.4990407018\n",
      "test:\t-144.828935513\n"
     ]
    }
   ],
   "source": [
    "pipeline_ridge = Pipeline([\n",
    "        (\"ridge\", Ridge(alpha=1.0))\n",
    "    ])\n",
    "print \"train:\\t{}\".format(np.mean(cross_val_train(pipeline_ridge, X, y, cv_count=10)))\n",
    "print \"test:\\t{}\".format(np.mean(cross_val(pipeline_ridge, X, y, cv_count=10)))"
   ]
  },
  {
   "cell_type": "code",
   "execution_count": 18,
   "metadata": {
    "collapsed": false
   },
   "outputs": [
    {
     "data": {
      "text/plain": [
       "{'alpha': array([ 0.25,  0.5 ,  1.  ,  2.  ])}"
      ]
     },
     "execution_count": 18,
     "metadata": {},
     "output_type": "execute_result"
    }
   ],
   "source": [
    "param_grid={'alpha':np.power(2.0,range(-2,2))}\n",
    "param_grid"
   ]
  },
  {
   "cell_type": "code",
   "execution_count": 19,
   "metadata": {
    "collapsed": false
   },
   "outputs": [
    {
     "name": "stdout",
     "output_type": "stream",
     "text": [
      "Fitting 10 folds for each of 4 candidates, totalling 40 fits\n"
     ]
    },
    {
     "name": "stderr",
     "output_type": "stream",
     "text": [
      "[Parallel(n_jobs=1)]: Done  40 out of  40 | elapsed:    0.3s finished\n"
     ]
    }
   ],
   "source": [
    "ridge_cv = GridSearchCV(estimator = Ridge(),\n",
    "                       param_grid=param_grid,\n",
    "                       scoring=model_scorer,\n",
    "                       n_jobs=1,\n",
    "                       cv=GrowingWindow(10),\n",
    "                       verbose=1).fit(X_train, y_train)"
   ]
  },
  {
   "cell_type": "code",
   "execution_count": 20,
   "metadata": {
    "collapsed": false
   },
   "outputs": [
    {
     "data": {
      "text/plain": [
       "{'alpha': 0.25}"
      ]
     },
     "execution_count": 20,
     "metadata": {},
     "output_type": "execute_result"
    }
   ],
   "source": [
    "ridge_cv.best_params_"
   ]
  },
  {
   "cell_type": "code",
   "execution_count": 21,
   "metadata": {
    "collapsed": false
   },
   "outputs": [
    {
     "name": "stdout",
     "output_type": "stream",
     "text": [
      "train:\t-19.7069495055\n",
      "test:\t-144.828935513\n"
     ]
    }
   ],
   "source": [
    "print \"train:\\t{}\".format(np.mean(cross_val_train(ridge_cv.best_estimator_, X, y, cv_count=10)))\n",
    "print \"test:\\t{}\".format(np.mean(cross_val(ridge_cv.best_estimator_, X, y, cv_count=10)))"
   ]
  },
  {
   "cell_type": "code",
   "execution_count": 22,
   "metadata": {
    "collapsed": false
   },
   "outputs": [
    {
     "name": "stdout",
     "output_type": "stream",
     "text": [
      "{'alpha': array([ 0.25,  0.5 ,  1.  ,  2.  ]), 'l1_ratio': [0.25, 0.5, 0.75]}\n",
      "Fitting 10 folds for each of 12 candidates, totalling 120 fits\n"
     ]
    },
    {
     "name": "stderr",
     "output_type": "stream",
     "text": [
      "/Users/gerben/anaconda3/envs/bdranalytics/lib/python2.7/site-packages/sklearn/linear_model/coordinate_descent.py:484: ConvergenceWarning: Objective did not converge. You might want to increase the number of iterations. Fitting data with very small alpha may cause precision problems.\n",
      "  ConvergenceWarning)\n"
     ]
    },
    {
     "name": "stdout",
     "output_type": "stream",
     "text": [
      "{'alpha': 2.0, 'l1_ratio': 0.75}\n"
     ]
    },
    {
     "name": "stderr",
     "output_type": "stream",
     "text": [
      "[Parallel(n_jobs=1)]: Done 120 out of 120 | elapsed:    5.3s finished\n"
     ]
    }
   ],
   "source": [
    "param_grid={'alpha':np.power(2.0,range(-2,2)),\n",
    "           'l1_ratio':[0.25,0.5,0.75]}\n",
    "print param_grid\n",
    "enet_cv = GridSearchCV(estimator = ElasticNet(),\n",
    "                       param_grid=param_grid,\n",
    "                       scoring=model_scorer,\n",
    "                       n_jobs=1,\n",
    "                       cv=GrowingWindow(10),\n",
    "                       verbose=1).fit(X_train, y_train)\n",
    "print enet_cv.best_params_"
   ]
  },
  {
   "cell_type": "code",
   "execution_count": 23,
   "metadata": {
    "collapsed": false
   },
   "outputs": [
    {
     "name": "stdout",
     "output_type": "stream",
     "text": [
      "train:\t-63.1471640254\n",
      "test:\t-144.828935513\n"
     ]
    }
   ],
   "source": [
    "print \"train:\\t{}\".format(np.mean(cross_val_train(enet_cv.best_estimator_, X, y, cv_count=10)))\n",
    "print \"test:\\t{}\".format(np.mean(cross_val(enet_cv.best_estimator_, X, y, cv_count=10)))"
   ]
  },
  {
   "cell_type": "markdown",
   "metadata": {},
   "source": [
    "## Exercise 2: Selecting features\n",
    "\n",
    "Now try to select a subset of features, which results in a better results.\n",
    "\n",
    "You can do it either manually (comparing coefficients / influences), or use feedback of RFE:  \n",
    "  * http://scikit-learn.org/stable/modules/generated/sklearn.feature_selection.RFE.html"
   ]
  },
  {
   "cell_type": "markdown",
   "metadata": {},
   "source": [
    "For the lm model, it's possible to get the coefficients as follows:"
   ]
  },
  {
   "cell_type": "code",
   "execution_count": 24,
   "metadata": {
    "collapsed": false
   },
   "outputs": [
    {
     "name": "stdout",
     "output_type": "stream",
     "text": [
      "recruit_lag1_window8_lag0     2.620886e+12\n",
      "recruit_lag1_window4_lag0     2.246545e+12\n",
      "soi_window2_lag0              1.993545e+12\n",
      "recruit_lag1_window10_lag0    8.895263e+11\n",
      "recruit_lag1_window5_lag0     8.889065e+11\n",
      "dtype: float64\n",
      "soi_window3_lag0            -2.615712e+12\n",
      "soi_window5_lag0            -1.812060e+12\n",
      "recruit_lag1_window2_lag0   -1.445887e+12\n",
      "recruit_lag1_window1_lag3   -1.045142e+12\n",
      "recruit_lag1_window1_lag8   -1.028685e+12\n",
      "dtype: float64\n"
     ]
    }
   ],
   "source": [
    "print pd.Series(pipeline.fit(X_train, y_train).named_steps['lm'].coef_, X_train.columns).sort_values(ascending=False).head(5)\n",
    "print pd.Series(pipeline.fit(X_train, y_train).named_steps['lm'].coef_, X_train.columns).sort_values(ascending=True).head(5)"
   ]
  },
  {
   "cell_type": "markdown",
   "metadata": {},
   "source": [
    "You can also get the correlation coefficients from a VAR model"
   ]
  },
  {
   "cell_type": "code",
   "execution_count": 25,
   "metadata": {
    "collapsed": false
   },
   "outputs": [
    {
     "data": {
      "text/plain": [
       "  Summary of Regression Results   \n",
       "==================================\n",
       "Model:                         VAR\n",
       "Method:                        OLS\n",
       "Date:           Mon, 12, Jun, 2017\n",
       "Time:                     21:11:10\n",
       "--------------------------------------------------------------------\n",
       "No. of Equations:         2.00000    BIC:                    1.75680\n",
       "Nobs:                     446.000    HQIC:                   1.61202\n",
       "Log likelihood:          -1578.16    FPE:                    4.56220\n",
       "AIC:                      1.51777    Det(Omega_mle):         4.30743\n",
       "--------------------------------------------------------------------\n",
       "Results for equation soi\n",
       "=============================================================================\n",
       "                coefficient       std. error           t-stat            prob\n",
       "-----------------------------------------------------------------------------\n",
       "const              0.148032         0.047873            3.092           0.002\n",
       "L1.soi             0.546346         0.047740           11.444           0.000\n",
       "L1.recruit         0.000145         0.001930            0.075           0.940\n",
       "L2.soi             0.043453         0.054651            0.795           0.427\n",
       "L2.recruit        -0.002532         0.002639           -0.959           0.338\n",
       "L3.soi             0.054917         0.054274            1.012           0.312\n",
       "L3.recruit         0.004570         0.002552            1.791           0.074\n",
       "L4.soi            -0.001306         0.054265           -0.024           0.981\n",
       "L4.recruit        -0.004477         0.002563           -1.747           0.081\n",
       "L5.soi            -0.105019         0.054015           -1.944           0.053\n",
       "L5.recruit        -0.002508         0.002510           -0.999           0.318\n",
       "L6.soi            -0.099879         0.061132           -1.634           0.103\n",
       "L6.recruit         0.003143         0.001531            2.053           0.041\n",
       "=============================================================================\n",
       "\n",
       "Results for equation recruit\n",
       "=============================================================================\n",
       "                coefficient       std. error           t-stat            prob\n",
       "-----------------------------------------------------------------------------\n",
       "const              9.554424         1.127427            8.475           0.000\n",
       "L1.soi             0.143975         1.124298            0.128           0.898\n",
       "L1.recruit         1.256701         0.045444           27.654           0.000\n",
       "L2.soi             0.390098         1.287064            0.303           0.762\n",
       "L2.recruit        -0.392522         0.062150           -6.316           0.000\n",
       "L3.soi            -0.741718         1.278184           -0.580           0.562\n",
       "L3.recruit         0.053480         0.060108            0.890           0.374\n",
       "L4.soi            -0.269599         1.277957           -0.211           0.833\n",
       "L4.recruit        -0.141656         0.060370           -2.346           0.019\n",
       "L5.soi           -21.028048         1.272081          -16.530           0.000\n",
       "L5.recruit         0.222097         0.059119            3.757           0.000\n",
       "L6.soi             9.129304         1.439680            6.341           0.000\n",
       "L6.recruit        -0.136245         0.036054           -3.779           0.000\n",
       "=============================================================================\n",
       "\n",
       "Correlation matrix of residuals\n",
       "                soi   recruit\n",
       "soi        1.000000  0.001660\n",
       "recruit    0.001660  1.000000\n",
       "\n"
      ]
     },
     "execution_count": 25,
     "metadata": {},
     "output_type": "execute_result"
    }
   ],
   "source": [
    "var_model = VAR(X_orig.join(y_orig))\n",
    "var_results = var_model.fit(6)\n",
    "var_results.summary()"
   ]
  },
  {
   "cell_type": "code",
   "execution_count": 26,
   "metadata": {
    "collapsed": false
   },
   "outputs": [
    {
     "data": {
      "image/png": "[encoded data removed]",
      "text/plain": [
       "<matplotlib.figure.Figure at 0x1145a8bd0>"
      ]
     },
     "metadata": {},
     "output_type": "display_data"
    }
   ],
   "source": [
    "var_results.plot_acorr()"
   ]
  },
  {
   "cell_type": "code",
   "execution_count": 27,
   "metadata": {
    "collapsed": false
   },
   "outputs": [
    {
     "data": {
      "text/plain": [
       "-1124.5899558993328"
      ]
     },
     "execution_count": 27,
     "metadata": {},
     "output_type": "execute_result"
    }
   ],
   "source": [
    "rfe = RFE(Ridge(alpha=1.0), step=5, n_features_to_select = 1)\n",
    "np.mean(cross_val(rfe, X_train, y_train, cv_count=10))"
   ]
  },
  {
   "cell_type": "code",
   "execution_count": 28,
   "metadata": {
    "collapsed": false
   },
   "outputs": [],
   "source": [
    "rfe_fit = RFE(Ridge(alpha=1.0), step=5, n_features_to_select = 1).fit(X_train, y_train)"
   ]
  },
  {
   "cell_type": "code",
   "execution_count": 29,
   "metadata": {
    "collapsed": false
   },
   "outputs": [
    {
     "data": {
      "text/html": [
       "<div>\n",
       "<table border=\"1\" class=\"dataframe\">\n",
       "  <thead>\n",
       "    <tr style=\"text-align: right;\">\n",
       "      <th></th>\n",
       "      <th>soi_window3_lag5</th>\n",
       "      <th>soi_window7_lag5</th>\n",
       "      <th>soi_window8_lag5</th>\n",
       "      <th>soi_window9_lag5</th>\n",
       "      <th>soi_window10_lag19</th>\n",
       "    </tr>\n",
       "  </thead>\n",
       "  <tbody>\n",
       "    <tr>\n",
       "      <th>1868-07-01 00:00:00</th>\n",
       "      <td>0.752667</td>\n",
       "      <td>0.536429</td>\n",
       "      <td>0.472750</td>\n",
       "      <td>0.430556</td>\n",
       "      <td>0.0789</td>\n",
       "    </tr>\n",
       "    <tr>\n",
       "      <th>1868-08-01 00:00:00</th>\n",
       "      <td>0.690667</td>\n",
       "      <td>0.583286</td>\n",
       "      <td>0.541125</td>\n",
       "      <td>0.484000</td>\n",
       "      <td>0.1051</td>\n",
       "    </tr>\n",
       "    <tr>\n",
       "      <th>1868-09-01 00:00:00</th>\n",
       "      <td>0.395333</td>\n",
       "      <td>0.555143</td>\n",
       "      <td>0.511000</td>\n",
       "      <td>0.481556</td>\n",
       "      <td>0.1674</td>\n",
       "    </tr>\n",
       "    <tr>\n",
       "      <th>1868-10-01 00:00:00</th>\n",
       "      <td>0.351333</td>\n",
       "      <td>0.561286</td>\n",
       "      <td>0.545125</td>\n",
       "      <td>0.507000</td>\n",
       "      <td>0.1084</td>\n",
       "    </tr>\n",
       "    <tr>\n",
       "      <th>1868-11-01 00:00:00</th>\n",
       "      <td>0.227333</td>\n",
       "      <td>0.502000</td>\n",
       "      <td>0.516375</td>\n",
       "      <td>0.507000</td>\n",
       "      <td>0.0767</td>\n",
       "    </tr>\n",
       "  </tbody>\n",
       "</table>\n",
       "</div>"
      ],
      "text/plain": [
       "                     soi_window3_lag5  soi_window7_lag5  soi_window8_lag5  \\\n",
       "1868-07-01 00:00:00          0.752667          0.536429          0.472750   \n",
       "1868-08-01 00:00:00          0.690667          0.583286          0.541125   \n",
       "1868-09-01 00:00:00          0.395333          0.555143          0.511000   \n",
       "1868-10-01 00:00:00          0.351333          0.561286          0.545125   \n",
       "1868-11-01 00:00:00          0.227333          0.502000          0.516375   \n",
       "\n",
       "                     soi_window9_lag5  soi_window10_lag19  \n",
       "1868-07-01 00:00:00          0.430556              0.0789  \n",
       "1868-08-01 00:00:00          0.484000              0.1051  \n",
       "1868-09-01 00:00:00          0.481556              0.1674  \n",
       "1868-10-01 00:00:00          0.507000              0.1084  \n",
       "1868-11-01 00:00:00          0.507000              0.0767  "
      ]
     },
     "execution_count": 29,
     "metadata": {},
     "output_type": "execute_result"
    }
   ],
   "source": [
    "X_train.loc[:,rfe_fit.ranking_<=2].head()"
   ]
  },
  {
   "cell_type": "code",
   "execution_count": 30,
   "metadata": {
    "collapsed": false
   },
   "outputs": [
    {
     "name": "stdout",
     "output_type": "stream",
     "text": [
      "Best index          = 15\n",
      "Best nr of features = 75\n",
      "Which gives score   = -162.71530617\n"
     ]
    }
   ],
   "source": [
    "rfe_all = [np.mean(cross_val(\n",
    "                                Ridge(alpha=1.0), \n",
    "                                X_train.loc[:,rfe_fit.ranking_<=i], \n",
    "                                y_train, \n",
    "                                cv_count=10))\n",
    "     for i in range(1, max(rfe_fit.ranking_))]\n",
    "best_index = np.array(rfe_all).argsort()[::-1][0]\n",
    "print 'Best index          = {}'.format(best_index)\n",
    "print 'Best nr of features = {}'.format(sum(rfe_fit.ranking_<=(best_index+1)))\n",
    "print 'Which gives score   = {}'.format(rfe_all[best_index])"
   ]
  },
  {
   "cell_type": "markdown",
   "metadata": {},
   "source": [
    "## Final score\n",
    "Choose your best pipeline and test its performance:"
   ]
  },
  {
   "cell_type": "markdown",
   "metadata": {},
   "source": [
    "### Provided solution:"
   ]
  },
  {
   "cell_type": "code",
   "execution_count": 31,
   "metadata": {
    "collapsed": false
   },
   "outputs": [],
   "source": [
    "X_sub = X_train.loc[:, rfe_fit.ranking_<=(best_index+1)]\n",
    "fit = Ridge(alpha=1.0).fit(X_sub, y_train)\n",
    "test_predictions = fit.predict(X_test.loc[:, rfe_fit.ranking_ <= (best_index+1)])"
   ]
  },
  {
   "cell_type": "markdown",
   "metadata": {},
   "source": [
    "### The score:"
   ]
  },
  {
   "cell_type": "code",
   "execution_count": 32,
   "metadata": {
    "collapsed": false
   },
   "outputs": [
    {
     "data": {
      "text/plain": [
       "-82.254584387544853"
      ]
     },
     "execution_count": 32,
     "metadata": {},
     "output_type": "execute_result"
    }
   ],
   "source": [
    "-model_score(y_test, test_predictions)"
   ]
  },
  {
   "cell_type": "code",
   "execution_count": 33,
   "metadata": {
    "collapsed": false
   },
   "outputs": [
    {
     "data": {
      "text/plain": [
       "0.80540210268588697"
      ]
     },
     "execution_count": 33,
     "metadata": {},
     "output_type": "execute_result"
    }
   ],
   "source": [
    "r2_score(y_test, test_predictions)"
   ]
  }
 ],
 "metadata": {
  "anaconda-cloud": {},
  "kernelspec": {
   "display_name": "Python [conda env:bdranalytics]",
   "language": "python",
   "name": "conda-env-bdranalytics-py"
  },
  "language_info": {
   "codemirror_mode": {
    "name": "ipython",
    "version": 2
   },
   "file_extension": ".py",
   "mimetype": "text/x-python",
   "name": "python",
   "nbconvert_exporter": "python",
   "pygments_lexer": "ipython2",
   "version": "2.7.13"
  }
 },
 "nbformat": 4,
 "nbformat_minor": 0
}
