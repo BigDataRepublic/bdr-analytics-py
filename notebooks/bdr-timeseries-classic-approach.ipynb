{
 "cells": [
  {
   "cell_type": "markdown",
   "metadata": {},
   "source": [
    "# Timeseries Feature Generation & Selection\n",
    "In this notebook we show how one can create and select features specifically for time series modelling.  \n",
    "There are some places in which you can explore alternative solutions, and try to find an even better solution yourself.  \n",
    "\n",
    "The notebook contains the following parts:\n",
    " 1. **Setup**: Here we setup and verify the environment (mainly data directory and imports)\n",
    " 1. **Data load**: Now we load the data, and show some statistics\n",
    " 1. **Feature generation**: Derive features to allow better models\n",
    " 1. **Defining evaluation**: Define our objective/cost function, and train/validate/test sets.\n",
    " 1. **Model tuning**: Determine a model which performs best given the features\n",
    " 1. **Selecting features**: Choose other features, such that the model generalizes better\n",
    " 1. **Final score on the test set**: After all our tuning, get the final score on the testset"
   ]
  },
  {
   "cell_type": "markdown",
   "metadata": {},
   "source": [
    "---\n",
    "## 1 - Setup"
   ]
  },
  {
   "cell_type": "markdown",
   "metadata": {},
   "source": [
    "### Folders"
   ]
  },
  {
   "cell_type": "markdown",
   "metadata": {},
   "source": [
    "Here we define the directory holding the dataset, this folder should contain the `soi.dat` and `recruit.dat` datasets:"
   ]
  },
  {
   "cell_type": "code",
   "execution_count": 1,
   "metadata": {
    "collapsed": true
   },
   "outputs": [],
   "source": [
    "datafolder = \"data\""
   ]
  },
  {
   "cell_type": "markdown",
   "metadata": {},
   "source": [
    "Determining wether the folder holds the expected data files:"
   ]
  },
  {
   "cell_type": "code",
   "execution_count": 2,
   "metadata": {
    "collapsed": false
   },
   "outputs": [],
   "source": [
    "import os\n",
    "has_soi = sum([name.endswith(\"soi.dat\") for name in os.listdir(datafolder)])\n",
    "has_recruit = sum([name.endswith(\"recruit.dat\") for name in os.listdir(datafolder)])"
   ]
  },
  {
   "cell_type": "markdown",
   "metadata": {},
   "source": [
    "And telling you if the folder is correct:"
   ]
  },
  {
   "cell_type": "code",
   "execution_count": 3,
   "metadata": {
    "collapsed": false
   },
   "outputs": [
    {
     "name": "stdout",
     "output_type": "stream",
     "text": [
      "You are ready to go\n"
     ]
    }
   ],
   "source": [
    "if (has_soi and has_recruit):\n",
    "    print 'You are ready to go'\n",
    "else:\n",
    "    print 'Your current directory is:'\n",
    "    print os.getcwd()\n",
    "    print 'And found the following files in the \"{}\" directory:'.format(datafolder)\n",
    "    print os.listdir(datafolder)\n",
    "    print ''\n",
    "if not has_soi:\n",
    "    print 'You are missing soi.dat'\n",
    "if not has_recruit:\n",
    "    print 'You are missing recruit.dat'\n",
    "assert (has_soi and has_recruit)"
   ]
  },
  {
   "cell_type": "markdown",
   "metadata": {},
   "source": [
    "### Imports\n",
    "We have placed all imports at the beginning to not clutter the other cells.\n",
    "Any failed import means you probably aren't running in the correct kernel. \n",
    "Please verify you are using 'Python [conda env:meetup_ds_timeseris]', which can be created using `conda env create -f environment.yml`"
   ]
  },
  {
   "cell_type": "code",
   "execution_count": 4,
   "metadata": {
    "collapsed": false
   },
   "outputs": [
    {
     "name": "stdout",
     "output_type": "stream",
     "text": [
      "IPython version: 5.3.0\n",
      "statsmodels: 0.8.0\n",
      "numpy: 1.13.0\n",
      "scipy: 0.19.0\n",
      "sklearn: 0.18.1\n",
      "pandas: 0.20.2\n"
     ]
    },
    {
     "name": "stderr",
     "output_type": "stream",
     "text": [
      "/Users/gerben/anaconda3/envs/meetup_ds_timeseries/lib/python2.7/site-packages/statsmodels/compat/pandas.py:56: FutureWarning: The pandas.core.datetools module is deprecated and will be removed in a future version. Please use the pandas.tseries module instead.\n",
      "  from pandas.core import datetools\n"
     ]
    }
   ],
   "source": [
    "import matplotlib\n",
    "import matplotlib.pyplot as plt\n",
    "%matplotlib inline\n",
    "matplotlib.style.use('ggplot')\n",
    "#%load_ext autoreload\n",
    "#%autoreload 1\n",
    "#%aimport bdranalytics\n",
    "import bdranalytics\n",
    "import pandas as pd\n",
    "import numpy as np\n",
    "import scipy as sc\n",
    "import seaborn as sns\n",
    "from scipy.ndimage.interpolation import shift\n",
    "import sklearn\n",
    "from sklearn import linear_model, model_selection\n",
    "from sklearn.model_selection import GridSearchCV\n",
    "from sklearn.pipeline import Pipeline, FeatureUnion\n",
    "from sklearn.linear_model import Ridge, ElasticNet\n",
    "from sklearn.feature_selection import RFE, RFECV\n",
    "from sklearn.metrics import mean_squared_error\n",
    "import itertools\n",
    "from sklearn.metrics import make_scorer, r2_score\n",
    "from sklearn.metrics.scorer import r2_scorer, mean_squared_error_scorer\n",
    "import statsmodels\n",
    "import statsmodels.tsa.api as sm\n",
    "from bdranalytics.model_selection.growingwindow import GrowingWindow\n",
    "from bdranalytics.pandaspipeline.transformers import PdFeatureChain, PdFeatureUnion, PdWindowTransformer, PdLagTransformer\n",
    "from IPython.display import display\n",
    "import IPython\n",
    "print \"IPython version: {}\".format(IPython.__version__)\n",
    "print \"statsmodels: {}\".format(statsmodels.__version__)\n",
    "print \"numpy: {}\".format(np.__version__)\n",
    "print \"scipy: {}\".format(sc.__version__)\n",
    "print \"sklearn: {}\".format(sklearn.__version__)\n",
    "print \"pandas: {}\".format(pd.__version__)"
   ]
  },
  {
   "cell_type": "markdown",
   "metadata": {},
   "source": [
    "---\n",
    "## 2 - Data load"
   ]
  },
  {
   "cell_type": "markdown",
   "metadata": {},
   "source": [
    "Here we load the two datasets, `soi.dat` and `recruit.dat`.\n",
    " - `soi.dat` holds the Southern Oscillation Index Data, which is is the difference in barometric pressure at sea level between Tahiti and Darwin. This is related to the El Nino / El Nina effect.\n",
    " - `recruit.dat` holds new fish recruitment"
   ]
  },
  {
   "cell_type": "code",
   "execution_count": 5,
   "metadata": {
    "collapsed": false,
    "scrolled": true
   },
   "outputs": [],
   "source": [
    "X_orig = pd.read_csv(os.path.join(datafolder, \"soi.dat\"), header=0, names=[\"soi\"])\n",
    "rng=pd.date_range('1/1/1866', periods=X_orig.size, freq='MS')\n",
    "X_orig = X_orig.set_index(rng)\n",
    "y_orig = pd.read_csv(os.path.join(datafolder, \"recruit.dat\"), header=0, names=[\"recruit\"]).set_index(rng).iloc[:,0]"
   ]
  },
  {
   "cell_type": "markdown",
   "metadata": {},
   "source": [
    "### Some information about the data set"
   ]
  },
  {
   "cell_type": "markdown",
   "metadata": {},
   "source": [
    "To following cells show you some (basic) information about the dataset"
   ]
  },
  {
   "cell_type": "code",
   "execution_count": 6,
   "metadata": {
    "collapsed": false
   },
   "outputs": [
    {
     "name": "stdout",
     "output_type": "stream",
     "text": [
      "The soi dataset is used as features, and is 452 rows by 1 columns\n",
      "The recruit dataset holds the target value, and is a series of 452 rows\n",
      "The first few rows, combining the features with the target, looks as follows:\n",
      "                       soi  recruit\n",
      "1866-01-01 00:00:00  0.246    68.63\n",
      "1866-02-01 00:00:00  0.311    68.63\n",
      "1866-03-01 00:00:00  0.104    68.63\n",
      "1866-04-01 00:00:00 -0.016    68.63\n",
      "1866-05-01 00:00:00  0.235    68.63\n",
      "Some quantile statistics about the range of values:\n",
      "              soi     recruit\n",
      "count  452.000000  452.000000\n",
      "mean     0.079381   62.248695\n",
      "std      0.382915   28.006504\n",
      "min     -1.000000    1.720000\n",
      "25%     -0.182750   39.597500\n",
      "50%      0.115000   68.625000\n",
      "75%      0.366000   86.860000\n",
      "max      1.000000  100.000000\n"
     ]
    }
   ],
   "source": [
    "print \"The soi dataset is used as features, and is {} rows by {} columns\".format(X_orig.shape[0], X_orig.shape[1])\n",
    "print \"The recruit dataset holds the target value, and is a series of {} rows\".format(y_orig.shape[0])\n",
    "print \"The first few rows, combining the features with the target, looks as follows:\"\n",
    "print X_orig.join(y_orig).head()\n",
    "print \"Some quantile statistics about the range of values:\"\n",
    "print X_orig.join(y_orig).describe()"
   ]
  },
  {
   "cell_type": "markdown",
   "metadata": {},
   "source": [
    "Let us now show how the timeseries look through time:"
   ]
  },
  {
   "cell_type": "code",
   "execution_count": 7,
   "metadata": {
    "collapsed": false
   },
   "outputs": [
    {
     "data": {
      "image/png": "[encoded data removed]",
      "text/plain": [
       "<matplotlib.figure.Figure at 0x10deb6210>"
      ]
     },
     "metadata": {},
     "output_type": "display_data"
    }
   ],
   "source": [
    "fig, ax = plt.subplots(figsize=(17, 5), ncols=1, nrows=2)\n",
    "ax[0].set_title(\"soi (the feature)\")\n",
    "fig1 = sns.tsplot(X_orig.soi, ax=ax[0])\n",
    "ax[1].set_title(\"recruit (the target)\")\n",
    "fig2 = sns.tsplot(y_orig, ax=ax[1])"
   ]
  },
  {
   "cell_type": "markdown",
   "metadata": {},
   "source": [
    "### Defining the target variable\n",
    "Instead of predicting the *current* recruit, we will attempt to predict the *next* recruit. Therefore we shift the `y_orig` by `-1` to get the value of 1 time ahead.\n",
    "\n",
    "Note that this will result in a NaN value on the last index, which we therefore remove."
   ]
  },
  {
   "cell_type": "code",
   "execution_count": 8,
   "metadata": {
    "collapsed": false
   },
   "outputs": [],
   "source": [
    "y = y_orig.shift(-1).dropna() # the next recruit"
   ]
  },
  {
   "cell_type": "markdown",
   "metadata": {},
   "source": [
    "### Defining the base features\n",
    "Currently we only have the `soi` feature as dataset. As we also know the *current* `soi` value, we add that to X.\n",
    "\n",
    "As we have one less value of `y` (we don't know the next value at the last row), we subselect only the `X` features for which we have a predictable future `recruit` value."
   ]
  },
  {
   "cell_type": "code",
   "execution_count": 9,
   "metadata": {
    "collapsed": false
   },
   "outputs": [],
   "source": [
    "X = pd.concat([X_orig,  # the original features: the current soi\n",
    "               y_orig.to_frame() # the current recruit\n",
    "              ], axis=1, join_axes=[X_orig.index]).loc[y.index,:]"
   ]
  },
  {
   "cell_type": "markdown",
   "metadata": {},
   "source": [
    "---\n",
    "## 3 - Feature generation"
   ]
  },
  {
   "cell_type": "markdown",
   "metadata": {},
   "source": [
    "Now we have a set of features `X`, and a target sequence `y`.\n",
    "We will now enrich the dataset by with additional features to allow better predictions on `y`. The final set of features will be assigned to the variable `X`."
   ]
  },
  {
   "cell_type": "markdown",
   "metadata": {},
   "source": [
    "This uses a sklearn transformer `PdLagTransformer` which will be explained in the next section"
   ]
  },
  {
   "cell_type": "markdown",
   "metadata": {},
   "source": [
    "### Add derived features\n",
    "Given this first version of X, we can add new features. In general, you can add transformations of the colums, using for example :\n",
    "  * http://pandas.pydata.org/pandas-docs/stable/generated/pandas.DataFrame.shift.html\n",
    "  * http://pandas.pydata.org/pandas-docs/stable/generated/pandas.DataFrame.rolling.html\n",
    "  \n",
    "To simplify the application of such transformations, we have created a few helper transformers, which work nicely with sklearn's pipelines:\n",
    "  * `PdLagTransformer(lag)`: This transforms the columns by adding a 'lagged' version. The constructor argument defines the lag to apply. This uses `pandas.DataFrame.shift` to shift the columns. The returned transformation however, also has modified column names. A column `soi`, if shifted `1`, will be transformed into a column named `soi_lag1`.\n",
    "  * `PdWindowTransformer(function, window)`: This transforms the column using a `rolling`. All constructor arguments are passed through to `pandas.DataFrame.rolling`. In general, one usually provides a `function`, and a `window`. The `window` defines the number of previous values to take, and then applies the provided `function` to those values.\n",
    "\n",
    "The sklearn `FeatureUnion` and `Pipeline` unfortunately drop the column names when pandas dataframes are passed to them. Therefore we've also made pandas versions:\n",
    " * `PdFeatureUnion`: Same as sklearn's `FeatureUnion`, but propagates column names of the contained transformers.  \n",
    " The sklearn's `FeatureUnion` always returns a `numpy` `array`, without column labels.  \n",
    " Our `PdFeatureUnion` always returns a `pandas` `DataFrame`, propagating the column labels of the contained transformers.  \n",
    " If the applied transformer does not return a `pandas` `DataFrame` (thus no column labels), column labels are generated using the format `transformername-index`. For example, `PdFeatureUnion([(feat,MyTransformer())])` will generate column labels like `feat-1` and `feat-2` if the `MyTransformer`'s `transform()` function returns a numpy array.\n",
    " * `PdFeatureChain`: Similar to sklearn's `Pipeline`, applies subsequent transformers to each other result.  \n",
    " Thus `PdFeatureChain( [ ('f1', MyFirstTransformer()), ('f2', MySecondTransformer()) ] )` will apply `MySecondTransformer.transform` on the result of `MyFirstTransformer.transform`."
   ]
  },
  {
   "cell_type": "markdown",
   "metadata": {},
   "source": [
    "### Recommended solution for feature generation: create lagged windows\n",
    "One way to create a lot of features, is to first create different windows, and then apply different lags to those windows. As we already have lags of single moments, and windows ending at the current time, we here only add lagged windows. To prevent too many overlapping windows, we use a stepsize of the lag which is equal to the window size."
   ]
  },
  {
   "cell_type": "code",
   "execution_count": 10,
   "metadata": {
    "collapsed": false
   },
   "outputs": [],
   "source": [
    "window_transformers = PdFeatureUnion([\n",
    "        ('window{}'.format(window), PdWindowTransformer(lambda x: x.mean(), window=window)) for window in range(1, 12)\n",
    "    ])\n",
    "lag_transformers = PdFeatureUnion([\n",
    "        ('lag{}'.format(lag), PdLagTransformer(lag)) for lag in range(20)])\n",
    "\n",
    "new_features = [\n",
    "    ('chain{}'.format(window),\n",
    "     PdFeatureChain([\n",
    "        ('window{}'.format(window), PdWindowTransformer(lambda x: x.mean(), window=window)),\n",
    "        ('lags', PdFeatureUnion([('lag{}'.format(lag), PdLagTransformer(lag)) for lag in range(window, 20, window)]))\n",
    "        ])\n",
    "     )\n",
    "     for window in range(2, 12, 2)]\n",
    "combined_features = PdFeatureUnion(\n",
    "    [('window{}'.format(window), PdWindowTransformer(lambda x: x.mean(), window=window)) for window in range(1,12)]\n",
    "    + \n",
    "    [('lag{}'.format(lag), PdLagTransformer(lag)) for lag in range(20)]\n",
    "    + new_features\n",
    "    )"
   ]
  },
  {
   "cell_type": "markdown",
   "metadata": {},
   "source": [
    "### Selecting usefull rows\n",
    "As the previous examples show, applying lags and windows result in `NaN` values for the first few rows. Let us remove those to only have complete rows."
   ]
  },
  {
   "cell_type": "code",
   "execution_count": 11,
   "metadata": {
    "collapsed": false
   },
   "outputs": [],
   "source": [
    "X = combined_features.fit_transform(X).dropna()\n",
    "y = y[X.index] # because of dropped rows in X, need to also select corresponding remaining rows from y"
   ]
  },
  {
   "cell_type": "markdown",
   "metadata": {},
   "source": [
    "> ps. You might think, are we allowed to do `fit_transform` on the **complete** dataset?! Yes we are, because we don't have information leakage, because: \n",
    " * the feature only takes into acount previous rows (rows with older timestamps)\n",
    " * and our cross validation, explained below, only tests on future rows (rows with more recent timestamps)."
   ]
  },
  {
   "cell_type": "markdown",
   "metadata": {},
   "source": [
    "---\n",
    "## 4 - Defining the evaluation\n",
    "### Defining the test method of the model\n",
    "With a dataset of features (X), and a target variable (y), let's see how well we can predict the recruit.  \n",
    "First we define the evaluation metric, and some helper functions to easily get results for cross validation:\n",
    " * `model_score` is the function we use to determine the cost\n",
    " * `model_scorer` is the same function, wrapped by sklearn to be able to be used by model selectors.\n",
    " * `cross_val` determines the cross validated test score, in which the folds are created specifically for timeseries. The data is divided into `cv_count+` splits.   \n",
    " The first fold uses split 1 as train set, and split 2 as validation set.  \n",
    " The second fold uses split 1 and 2 as train set, and split 3 as validation set.\n",
    " The `cv_count`th fold uses split 1 up till `cv_count` as train set, and split `cv_count+1` as validation set.\n",
    " * `cross_val_train` determines the cross validated train score. Thus similar to `cross_val`, but returns the train error instead of the validation error."
   ]
  },
  {
   "cell_type": "code",
   "execution_count": 12,
   "metadata": {
    "collapsed": false
   },
   "outputs": [],
   "source": [
    "model_score = mean_squared_error\n",
    "model_scorer = make_scorer(mean_squared_error, greater_is_better=False)\n",
    "\n",
    "def cross_val(estimator, X, y, scorer = model_scorer, cv_count=10):\n",
    "    return model_selection.cross_val_score(estimator, X, y.to_frame(), \n",
    "                                           scoring = scorer,\n",
    "                                           cv=GrowingWindow(cv_count))\n",
    "\n",
    "## for different folds, trains the model, en returns the error on the **train** sets.\n",
    "def cross_val_train(estimator, X, y, scorer = model_scorer, cv_count=10):\n",
    "    return [scorer(estimator.fit(X.iloc[train,:], y.iloc[train]),\n",
    "                   X.iloc[train,:],\n",
    "                   y.iloc[train])\n",
    "             for train, test in GrowingWindow(cv_count).split(X)]"
   ]
  },
  {
   "cell_type": "markdown",
   "metadata": {},
   "source": [
    "### Selecting a hold out set"
   ]
  },
  {
   "cell_type": "markdown",
   "metadata": {},
   "source": [
    "First we extract a train & test set from the full dataset"
   ]
  },
  {
   "cell_type": "code",
   "execution_count": 13,
   "metadata": {
    "collapsed": false
   },
   "outputs": [
    {
     "name": "stdout",
     "output_type": "stream",
     "text": [
      "Train datasize dimensions = (332, 100), Test datasets dimensions= (48, 100) \n"
     ]
    }
   ],
   "source": [
    "i_train, i_test = list(itertools.islice(GrowingWindow(8).split(X), 6, 7))[0]\n",
    "X_train = X.iloc[i_train,:]\n",
    "y_train = y[i_train]\n",
    "\n",
    "X_test = X.iloc[i_test,:]\n",
    "y_test = y[i_test]\n",
    "print \"Train datasize dimensions = {}, Test datasets dimensions= {} \".format(X_train.shape, X_test.shape)"
   ]
  },
  {
   "cell_type": "code",
   "execution_count": 14,
   "metadata": {
    "collapsed": false
   },
   "outputs": [
    {
     "name": "stdout",
     "output_type": "stream",
     "text": [
      "The names of the available columns:\n"
     ]
    },
    {
     "data": {
      "text/plain": [
       "Index([u'soi_window1', u'recruit_window1', u'soi_window2', u'recruit_window2',\n",
       "       u'soi_window3', u'recruit_window3', u'soi_window4', u'recruit_window4',\n",
       "       u'soi_window5', u'recruit_window5', u'soi_window6', u'recruit_window6',\n",
       "       u'soi_window7', u'recruit_window7', u'soi_window8', u'recruit_window8',\n",
       "       u'soi_window9', u'recruit_window9', u'soi_window10',\n",
       "       u'recruit_window10', u'soi_window11', u'recruit_window11', u'soi_lag0',\n",
       "       u'recruit_lag0', u'soi_lag1', u'recruit_lag1', u'soi_lag2',\n",
       "       u'recruit_lag2', u'soi_lag3', u'recruit_lag3', u'soi_lag4',\n",
       "       u'recruit_lag4', u'soi_lag5', u'recruit_lag5', u'soi_lag6',\n",
       "       u'recruit_lag6', u'soi_lag7', u'recruit_lag7', u'soi_lag8',\n",
       "       u'recruit_lag8', u'soi_lag9', u'recruit_lag9', u'soi_lag10',\n",
       "       u'recruit_lag10', u'soi_lag11', u'recruit_lag11', u'soi_lag12',\n",
       "       u'recruit_lag12', u'soi_lag13', u'recruit_lag13', u'soi_lag14',\n",
       "       u'recruit_lag14', u'soi_lag15', u'recruit_lag15', u'soi_lag16',\n",
       "       u'recruit_lag16', u'soi_lag17', u'recruit_lag17', u'soi_lag18',\n",
       "       u'recruit_lag18', u'soi_lag19', u'recruit_lag19', u'soi_window2_lag2',\n",
       "       u'recruit_window2_lag2', u'soi_window2_lag4', u'recruit_window2_lag4',\n",
       "       u'soi_window2_lag6', u'recruit_window2_lag6', u'soi_window2_lag8',\n",
       "       u'recruit_window2_lag8', u'soi_window2_lag10', u'recruit_window2_lag10',\n",
       "       u'soi_window2_lag12', u'recruit_window2_lag12', u'soi_window2_lag14',\n",
       "       u'recruit_window2_lag14', u'soi_window2_lag16',\n",
       "       u'recruit_window2_lag16', u'soi_window2_lag18',\n",
       "       u'recruit_window2_lag18', u'soi_window4_lag4', u'recruit_window4_lag4',\n",
       "       u'soi_window4_lag8', u'recruit_window4_lag8', u'soi_window4_lag12',\n",
       "       u'recruit_window4_lag12', u'soi_window4_lag16',\n",
       "       u'recruit_window4_lag16', u'soi_window6_lag6', u'recruit_window6_lag6',\n",
       "       u'soi_window6_lag12', u'recruit_window6_lag12', u'soi_window6_lag18',\n",
       "       u'recruit_window6_lag18', u'soi_window8_lag8', u'recruit_window8_lag8',\n",
       "       u'soi_window8_lag16', u'recruit_window8_lag16', u'soi_window10_lag10',\n",
       "       u'recruit_window10_lag10'],\n",
       "      dtype='object')"
      ]
     },
     "metadata": {},
     "output_type": "display_data"
    },
    {
     "name": "stdout",
     "output_type": "stream",
     "text": [
      "The first few training rows (and only a few columns), including the target variable recruit\n"
     ]
    },
    {
     "data": {
      "text/html": [
       "<div>\n",
       "<style>\n",
       "    .dataframe thead tr:only-child th {\n",
       "        text-align: right;\n",
       "    }\n",
       "\n",
       "    .dataframe thead th {\n",
       "        text-align: left;\n",
       "    }\n",
       "\n",
       "    .dataframe tbody tr th {\n",
       "        vertical-align: top;\n",
       "    }\n",
       "</style>\n",
       "<table border=\"1\" class=\"dataframe\">\n",
       "  <thead>\n",
       "    <tr style=\"text-align: right;\">\n",
       "      <th></th>\n",
       "      <th>recruit</th>\n",
       "      <th>soi_window1</th>\n",
       "      <th>recruit_window1</th>\n",
       "      <th>soi_window2</th>\n",
       "      <th>recruit_window2</th>\n",
       "      <th>soi_window3</th>\n",
       "    </tr>\n",
       "  </thead>\n",
       "  <tbody>\n",
       "    <tr>\n",
       "      <th>1867-12-01 00:00:00</th>\n",
       "      <td>67.87000</td>\n",
       "      <td>0.760</td>\n",
       "      <td>72.20000</td>\n",
       "      <td>0.6885</td>\n",
       "      <td>70.915000</td>\n",
       "      <td>0.603000</td>\n",
       "    </tr>\n",
       "    <tr>\n",
       "      <th>1868-01-01 00:00:00</th>\n",
       "      <td>64.91001</td>\n",
       "      <td>0.891</td>\n",
       "      <td>67.87000</td>\n",
       "      <td>0.8255</td>\n",
       "      <td>70.035000</td>\n",
       "      <td>0.756000</td>\n",
       "    </tr>\n",
       "    <tr>\n",
       "      <th>1868-02-01 00:00:00</th>\n",
       "      <td>53.85000</td>\n",
       "      <td>0.607</td>\n",
       "      <td>64.91001</td>\n",
       "      <td>0.7490</td>\n",
       "      <td>66.390005</td>\n",
       "      <td>0.752667</td>\n",
       "    </tr>\n",
       "    <tr>\n",
       "      <th>1868-03-01 00:00:00</th>\n",
       "      <td>37.96000</td>\n",
       "      <td>0.574</td>\n",
       "      <td>53.85000</td>\n",
       "      <td>0.5905</td>\n",
       "      <td>59.380005</td>\n",
       "      <td>0.690667</td>\n",
       "    </tr>\n",
       "    <tr>\n",
       "      <th>1868-04-01 00:00:00</th>\n",
       "      <td>23.23000</td>\n",
       "      <td>0.005</td>\n",
       "      <td>37.96000</td>\n",
       "      <td>0.2895</td>\n",
       "      <td>45.905000</td>\n",
       "      <td>0.395333</td>\n",
       "    </tr>\n",
       "  </tbody>\n",
       "</table>\n",
       "</div>"
      ],
      "text/plain": [
       "                      recruit  soi_window1  recruit_window1  soi_window2  \\\n",
       "1867-12-01 00:00:00  67.87000        0.760         72.20000       0.6885   \n",
       "1868-01-01 00:00:00  64.91001        0.891         67.87000       0.8255   \n",
       "1868-02-01 00:00:00  53.85000        0.607         64.91001       0.7490   \n",
       "1868-03-01 00:00:00  37.96000        0.574         53.85000       0.5905   \n",
       "1868-04-01 00:00:00  23.23000        0.005         37.96000       0.2895   \n",
       "\n",
       "                     recruit_window2  soi_window3  \n",
       "1867-12-01 00:00:00        70.915000     0.603000  \n",
       "1868-01-01 00:00:00        70.035000     0.756000  \n",
       "1868-02-01 00:00:00        66.390005     0.752667  \n",
       "1868-03-01 00:00:00        59.380005     0.690667  \n",
       "1868-04-01 00:00:00        45.905000     0.395333  "
      ]
     },
     "metadata": {},
     "output_type": "display_data"
    }
   ],
   "source": [
    "print \"The names of the available columns:\"\n",
    "display(X_train.columns)\n",
    "print \"The first few training rows (and only a few columns), including the target variable {}\".format(y_train.name)\n",
    "display(y_train.to_frame().join(X_train).iloc[:,0:6].head())"
   ]
  },
  {
   "cell_type": "markdown",
   "metadata": {},
   "source": [
    "Note that `_window1` is actually just the value. Thus `soi_window1` is just the `soi` feature.  \n",
    "Thus `recruit_lag1_window1` is the target `recruit`, one timestep in history."
   ]
  },
  {
   "cell_type": "markdown",
   "metadata": {},
   "source": [
    "## 5 - Model tuning\n",
    "With the evaluation functions defined, we can start to create a predictive model"
   ]
  },
  {
   "cell_type": "markdown",
   "metadata": {},
   "source": [
    "### First naive model\n",
    "Here we create a first model, a simple linear regression."
   ]
  },
  {
   "cell_type": "code",
   "execution_count": 15,
   "metadata": {
    "collapsed": false
   },
   "outputs": [],
   "source": [
    "linear_regression = Pipeline([\n",
    "        (\"lm\", linear_model.LinearRegression())\n",
    "    ])"
   ]
  },
  {
   "cell_type": "markdown",
   "metadata": {},
   "source": [
    "#### The quality of our first naive model:"
   ]
  },
  {
   "cell_type": "markdown",
   "metadata": {},
   "source": [
    "For reference, predicting y with the original features (thus only just the soi):"
   ]
  },
  {
   "cell_type": "code",
   "execution_count": 16,
   "metadata": {
    "collapsed": false
   },
   "outputs": [
    {
     "name": "stdout",
     "output_type": "stream",
     "text": [
      "num features:1\n",
      "Scores (higher is better);\n",
      "cv train:\t-872.114123517\n",
      "cv test:\t-911.120327024\n"
     ]
    }
   ],
   "source": [
    "print \"num features:{}\".format(X_orig.shape[1])\n",
    "print \"Scores (higher is better);\"\n",
    "print \"cv train:\\t{}\".format(np.mean(cross_val_train(linear_regression, X_orig.loc[X_train.index,:], y_train, cv_count=10)))\n",
    "print \"cv test:\\t{}\".format(np.mean(cross_val(linear_regression, X_orig.loc[X_train.index,:], y_train, cv_count=10)))"
   ]
  },
  {
   "cell_type": "markdown",
   "metadata": {},
   "source": [
    "Probably you do much better with your new set of features."
   ]
  },
  {
   "cell_type": "code",
   "execution_count": 17,
   "metadata": {
    "collapsed": false
   },
   "outputs": [
    {
     "name": "stdout",
     "output_type": "stream",
     "text": [
      "num features:100\n",
      "Scores (higher is better);\n",
      "cv train:\t-20.4075471062\n",
      "cv test:\t-141.198894829\n"
     ]
    }
   ],
   "source": [
    "print \"num features:{}\".format(X.shape[1])\n",
    "print \"Scores (higher is better);\"\n",
    "print \"cv train:\\t{}\".format(np.mean(cross_val_train(linear_regression, X, y, cv_count=10)))\n",
    "print \"cv test:\\t{}\".format(np.mean(cross_val(linear_regression, X, y, cv_count=10)))"
   ]
  },
  {
   "cell_type": "markdown",
   "metadata": {},
   "source": [
    "### Choosing a different model\n",
    "Feel free to select a different model, and see if you can increase the performance"
   ]
  },
  {
   "cell_type": "code",
   "execution_count": 18,
   "metadata": {
    "collapsed": false
   },
   "outputs": [
    {
     "name": "stdout",
     "output_type": "stream",
     "text": [
      "num features:\t100\n",
      "Scores (higher is better);\n",
      "cv train:\t-17.8307653117\n",
      "cv test:\t-63.3487305462\n"
     ]
    }
   ],
   "source": [
    "alternative = Pipeline([\n",
    "        (\"ridge\", Ridge(alpha=1.0))\n",
    "    ])\n",
    "print \"num features:\\t{}\".format(X.shape[1])\n",
    "print \"Scores (higher is better);\"\n",
    "print \"cv train:\\t{}\".format(np.mean(cross_val_train(alternative, X_train, y_train, cv_count=10)))\n",
    "print \"cv test:\\t{}\".format(np.mean(cross_val(alternative, X_train, y_train, cv_count=10)))"
   ]
  },
  {
   "cell_type": "markdown",
   "metadata": {},
   "source": [
    "## Model tuning\n",
    "### Recommended solution for model tuning: grid search cv on meta params"
   ]
  },
  {
   "cell_type": "markdown",
   "metadata": {},
   "source": [
    "Most models need some meta parameter tuning, so let us also do that:"
   ]
  },
  {
   "cell_type": "code",
   "execution_count": 19,
   "metadata": {
    "collapsed": false
   },
   "outputs": [
    {
     "data": {
      "text/plain": [
       "{'alpha': array([ 0.03901844,  0.05852766,  0.0877915 ,  0.13168724,  0.19753086,\n",
       "         0.2962963 ,  0.44444444,  0.66666667,  1.        ,  1.5       ,\n",
       "         2.25      ,  3.375     ])}"
      ]
     },
     "metadata": {},
     "output_type": "display_data"
    },
    {
     "name": "stdout",
     "output_type": "stream",
     "text": [
      "Fitting 4 folds for each of 12 candidates, totalling 48 fits\n"
     ]
    },
    {
     "name": "stderr",
     "output_type": "stream",
     "text": [
      "[Parallel(n_jobs=1)]: Done  48 out of  48 | elapsed:    0.4s finished\n"
     ]
    }
   ],
   "source": [
    "param_grid={'alpha':np.power(1.5, range(-8,4))}\n",
    "display(param_grid)\n",
    "ridge_cv = GridSearchCV(estimator = Ridge(),\n",
    "                       param_grid=param_grid,\n",
    "                       scoring=model_scorer,\n",
    "                       n_jobs=1,\n",
    "                       cv=GrowingWindow(4), # Usually useful to select a slightly different cv set\n",
    "                       verbose=1).fit(X_train, y_train)"
   ]
  },
  {
   "cell_type": "markdown",
   "metadata": {},
   "source": [
    "This resulted in the following best meta parameters:"
   ]
  },
  {
   "cell_type": "code",
   "execution_count": 20,
   "metadata": {
    "collapsed": false
   },
   "outputs": [
    {
     "name": "stdout",
     "output_type": "stream",
     "text": [
      "params:\t\t{'alpha': 2.25}\n",
      "num features:\t100\n",
      "Scores (higher is better);\n",
      "cv train:\t-19.8757143839\n",
      "cv test:\t-75.2816737849\n"
     ]
    }
   ],
   "source": [
    "print \"params:\\t\\t{}\".format(ridge_cv.best_params_)\n",
    "print \"num features:\\t{}\".format(X.shape[1])\n",
    "print \"Scores (higher is better);\"\n",
    "print \"cv train:\\t{}\".format(np.mean(cross_val_train(ridge_cv.best_estimator_, X_train, y_train, cv_count=10)))\n",
    "print \"cv test:\\t{}\".format(np.mean(cross_val(ridge_cv.best_estimator_, X_train, y_train, cv_count=10)))"
   ]
  },
  {
   "cell_type": "code",
   "execution_count": 21,
   "metadata": {
    "collapsed": false
   },
   "outputs": [],
   "source": [
    "model_best = Ridge(**(ridge_cv.best_params_))"
   ]
  },
  {
   "cell_type": "markdown",
   "metadata": {},
   "source": [
    "---\n",
    "## 6 - Selecting features\n",
    "Not all features are actually equally usefull. With too many available features, most models will have problems distinguishing noise from signal. One way is to use regularization (as used above), the other is to actually remove useless features."
   ]
  },
  {
   "cell_type": "markdown",
   "metadata": {},
   "source": [
    "### (partial) Autocorrelation\n",
    "One classic way to determine usefull features is by looking at the autocorrelation, and partial autocorrelation.  \n",
    "The regular autocorrelation shows the correlation of the target variable `recruit` with the lagged versions. Thus this is done by correlating the `recruit` with **just** the 1 lagged version of `recruit`, and then repeated for different lags.  \n",
    "However, if lag 1 correlates, lag 2 will also correlate, because lag 2 is the 1 lagged version of lag 1.  \n",
    "Therefore the partial autocorrelation plot is more usefull, as it shows the correlation, corrected for the correlation with the other lags. It can be made by applying a linear regression of the target `recruit` with **all** lagged versions in 1 model, such that the individual coefficients indicate the individual marginal effect."
   ]
  },
  {
   "cell_type": "code",
   "execution_count": 22,
   "metadata": {
    "collapsed": false
   },
   "outputs": [
    {
     "data": {
      "image/png": "[encoded data removed]",
      "text/plain": [
       "<matplotlib.figure.Figure at 0x112902090>"
      ]
     },
     "metadata": {},
     "output_type": "display_data"
    }
   ],
   "source": [
    "fig = plt.figure(figsize=(12,8))\n",
    "ax1 = fig.add_subplot(211)\n",
    "fig = sm.graphics.plot_acf(y_orig.squeeze(), lags=40, ax=ax1)\n",
    "ax2 = fig.add_subplot(212)\n",
    "fig = sm.graphics.plot_pacf(y_orig.squeeze(), lags=40, ax=ax2)"
   ]
  },
  {
   "cell_type": "markdown",
   "metadata": {},
   "source": [
    "This shows that mainly the first 2 lags of `recruit` are useful, the others are just noise. (The first one at `x==0` reflects the correlation of `recruit` with itself)"
   ]
  },
  {
   "cell_type": "markdown",
   "metadata": {},
   "source": [
    "### Recommended solution for feature selection: Recursive feature elimination"
   ]
  },
  {
   "cell_type": "markdown",
   "metadata": {},
   "source": [
    "The recommended solution is to iteratively remove features, a few at a time, and take the set which works best on a validation set.\n",
    "\n",
    "First we show how `RFE` in general works:"
   ]
  },
  {
   "cell_type": "code",
   "execution_count": 23,
   "metadata": {
    "collapsed": false
   },
   "outputs": [
    {
     "name": "stdout",
     "output_type": "stream",
     "text": [
      "Scores (higher is better) (not this selects features per fold);\n",
      "cv train:\t-76.7926303336\n"
     ]
    },
    {
     "name": "stderr",
     "output_type": "stream",
     "text": [
      "/Users/gerben/anaconda3/envs/meetup_ds_timeseries/lib/python2.7/site-packages/sklearn/utils/validation.py:526: DataConversionWarning: A column-vector y was passed when a 1d array was expected. Please change the shape of y to (n_samples, ), for example using ravel().\n",
      "  y = column_or_1d(y, warn=True)\n"
     ]
    },
    {
     "name": "stdout",
     "output_type": "stream",
     "text": [
      "cv test:\t-117.498546997\n"
     ]
    }
   ],
   "source": [
    "rfe = RFECV(model_best, step=5, scoring = model_scorer, cv=GrowingWindow(6))\n",
    "print \"Scores (higher is better) (not this selects features per fold);\"\n",
    "print \"cv train:\\t{}\".format(np.mean(cross_val_train(rfe, X_train, y_train, cv_count=10)))\n",
    "print \"cv test:\\t{}\".format(np.mean(cross_val(rfe, X_train, y_train, cv_count=10)))"
   ]
  },
  {
   "cell_type": "markdown",
   "metadata": {},
   "source": [
    "First we determine a fit, to get the order in which features are removed.  \n",
    "In the current setup, the model is first fitted using all features. The 5 least important features are removed, and the model is refit. This is repeated until only 10 features remain. This gives an ordering of all features (the order they were removed). "
   ]
  },
  {
   "cell_type": "code",
   "execution_count": 24,
   "metadata": {
    "collapsed": false
   },
   "outputs": [
    {
     "name": "stdout",
     "output_type": "stream",
     "text": [
      "50\n",
      "As an example, the last remaining features were:\n"
     ]
    },
    {
     "data": {
      "text/html": [
       "<div>\n",
       "<style>\n",
       "    .dataframe thead tr:only-child th {\n",
       "        text-align: right;\n",
       "    }\n",
       "\n",
       "    .dataframe thead th {\n",
       "        text-align: left;\n",
       "    }\n",
       "\n",
       "    .dataframe tbody tr th {\n",
       "        vertical-align: top;\n",
       "    }\n",
       "</style>\n",
       "<table border=\"1\" class=\"dataframe\">\n",
       "  <thead>\n",
       "    <tr style=\"text-align: right;\">\n",
       "      <th></th>\n",
       "      <th>soi_window1</th>\n",
       "      <th>recruit_window1</th>\n",
       "      <th>soi_window2</th>\n",
       "      <th>soi_window3</th>\n",
       "      <th>soi_window4</th>\n",
       "      <th>soi_window5</th>\n",
       "      <th>soi_window6</th>\n",
       "      <th>soi_window7</th>\n",
       "      <th>soi_window8</th>\n",
       "      <th>soi_window9</th>\n",
       "      <th>...</th>\n",
       "      <th>soi_window2_lag18</th>\n",
       "      <th>soi_window4_lag4</th>\n",
       "      <th>soi_window4_lag8</th>\n",
       "      <th>soi_window4_lag16</th>\n",
       "      <th>soi_window6_lag6</th>\n",
       "      <th>soi_window6_lag12</th>\n",
       "      <th>soi_window6_lag18</th>\n",
       "      <th>soi_window8_lag8</th>\n",
       "      <th>soi_window8_lag16</th>\n",
       "      <th>soi_window10_lag10</th>\n",
       "    </tr>\n",
       "  </thead>\n",
       "  <tbody>\n",
       "    <tr>\n",
       "      <th>1867-12-01 00:00:00</th>\n",
       "      <td>0.760</td>\n",
       "      <td>72.20000</td>\n",
       "      <td>0.6885</td>\n",
       "      <td>0.603000</td>\n",
       "      <td>0.50275</td>\n",
       "      <td>0.4514</td>\n",
       "      <td>0.380667</td>\n",
       "      <td>0.339571</td>\n",
       "      <td>0.330625</td>\n",
       "      <td>0.273889</td>\n",
       "      <td>...</td>\n",
       "      <td>0.1860</td>\n",
       "      <td>0.15850</td>\n",
       "      <td>0.1095</td>\n",
       "      <td>0.13675</td>\n",
       "      <td>0.133167</td>\n",
       "      <td>0.054833</td>\n",
       "      <td>0.169500</td>\n",
       "      <td>0.074000</td>\n",
       "      <td>0.149000</td>\n",
       "      <td>0.1674</td>\n",
       "    </tr>\n",
       "    <tr>\n",
       "      <th>1868-01-01 00:00:00</th>\n",
       "      <td>0.891</td>\n",
       "      <td>67.87000</td>\n",
       "      <td>0.8255</td>\n",
       "      <td>0.756000</td>\n",
       "      <td>0.67500</td>\n",
       "      <td>0.5804</td>\n",
       "      <td>0.524667</td>\n",
       "      <td>0.453571</td>\n",
       "      <td>0.408500</td>\n",
       "      <td>0.392889</td>\n",
       "      <td>...</td>\n",
       "      <td>0.1640</td>\n",
       "      <td>0.14200</td>\n",
       "      <td>0.0850</td>\n",
       "      <td>0.15050</td>\n",
       "      <td>0.076667</td>\n",
       "      <td>0.084000</td>\n",
       "      <td>0.160333</td>\n",
       "      <td>0.071250</td>\n",
       "      <td>0.154500</td>\n",
       "      <td>0.1084</td>\n",
       "    </tr>\n",
       "    <tr>\n",
       "      <th>1868-02-01 00:00:00</th>\n",
       "      <td>0.607</td>\n",
       "      <td>64.91001</td>\n",
       "      <td>0.7490</td>\n",
       "      <td>0.752667</td>\n",
       "      <td>0.71875</td>\n",
       "      <td>0.6614</td>\n",
       "      <td>0.584833</td>\n",
       "      <td>0.536429</td>\n",
       "      <td>0.472750</td>\n",
       "      <td>0.430556</td>\n",
       "      <td>...</td>\n",
       "      <td>0.0875</td>\n",
       "      <td>0.22675</td>\n",
       "      <td>-0.0435</td>\n",
       "      <td>0.12575</td>\n",
       "      <td>0.016500</td>\n",
       "      <td>0.187833</td>\n",
       "      <td>0.105833</td>\n",
       "      <td>0.078125</td>\n",
       "      <td>0.120375</td>\n",
       "      <td>0.0767</td>\n",
       "    </tr>\n",
       "    <tr>\n",
       "      <th>1868-03-01 00:00:00</th>\n",
       "      <td>0.574</td>\n",
       "      <td>53.85000</td>\n",
       "      <td>0.5905</td>\n",
       "      <td>0.690667</td>\n",
       "      <td>0.70800</td>\n",
       "      <td>0.6898</td>\n",
       "      <td>0.646833</td>\n",
       "      <td>0.583286</td>\n",
       "      <td>0.541125</td>\n",
       "      <td>0.484000</td>\n",
       "      <td>...</td>\n",
       "      <td>0.1370</td>\n",
       "      <td>0.37425</td>\n",
       "      <td>0.0520</td>\n",
       "      <td>0.07400</td>\n",
       "      <td>0.109333</td>\n",
       "      <td>0.080333</td>\n",
       "      <td>0.136833</td>\n",
       "      <td>0.083500</td>\n",
       "      <td>0.105375</td>\n",
       "      <td>0.0844</td>\n",
       "    </tr>\n",
       "    <tr>\n",
       "      <th>1868-04-01 00:00:00</th>\n",
       "      <td>0.005</td>\n",
       "      <td>37.96000</td>\n",
       "      <td>0.2895</td>\n",
       "      <td>0.395333</td>\n",
       "      <td>0.51925</td>\n",
       "      <td>0.5674</td>\n",
       "      <td>0.575667</td>\n",
       "      <td>0.555143</td>\n",
       "      <td>0.511000</td>\n",
       "      <td>0.481556</td>\n",
       "      <td>...</td>\n",
       "      <td>0.1640</td>\n",
       "      <td>0.50275</td>\n",
       "      <td>0.1585</td>\n",
       "      <td>0.03850</td>\n",
       "      <td>0.211333</td>\n",
       "      <td>0.044000</td>\n",
       "      <td>0.145833</td>\n",
       "      <td>0.134000</td>\n",
       "      <td>0.087625</td>\n",
       "      <td>0.0953</td>\n",
       "    </tr>\n",
       "  </tbody>\n",
       "</table>\n",
       "<p>5 rows × 50 columns</p>\n",
       "</div>"
      ],
      "text/plain": [
       "                     soi_window1  recruit_window1  soi_window2  soi_window3  \\\n",
       "1867-12-01 00:00:00        0.760         72.20000       0.6885     0.603000   \n",
       "1868-01-01 00:00:00        0.891         67.87000       0.8255     0.756000   \n",
       "1868-02-01 00:00:00        0.607         64.91001       0.7490     0.752667   \n",
       "1868-03-01 00:00:00        0.574         53.85000       0.5905     0.690667   \n",
       "1868-04-01 00:00:00        0.005         37.96000       0.2895     0.395333   \n",
       "\n",
       "                     soi_window4  soi_window5  soi_window6  soi_window7  \\\n",
       "1867-12-01 00:00:00      0.50275       0.4514     0.380667     0.339571   \n",
       "1868-01-01 00:00:00      0.67500       0.5804     0.524667     0.453571   \n",
       "1868-02-01 00:00:00      0.71875       0.6614     0.584833     0.536429   \n",
       "1868-03-01 00:00:00      0.70800       0.6898     0.646833     0.583286   \n",
       "1868-04-01 00:00:00      0.51925       0.5674     0.575667     0.555143   \n",
       "\n",
       "                     soi_window8  soi_window9         ...          \\\n",
       "1867-12-01 00:00:00     0.330625     0.273889         ...           \n",
       "1868-01-01 00:00:00     0.408500     0.392889         ...           \n",
       "1868-02-01 00:00:00     0.472750     0.430556         ...           \n",
       "1868-03-01 00:00:00     0.541125     0.484000         ...           \n",
       "1868-04-01 00:00:00     0.511000     0.481556         ...           \n",
       "\n",
       "                     soi_window2_lag18  soi_window4_lag4  soi_window4_lag8  \\\n",
       "1867-12-01 00:00:00             0.1860           0.15850            0.1095   \n",
       "1868-01-01 00:00:00             0.1640           0.14200            0.0850   \n",
       "1868-02-01 00:00:00             0.0875           0.22675           -0.0435   \n",
       "1868-03-01 00:00:00             0.1370           0.37425            0.0520   \n",
       "1868-04-01 00:00:00             0.1640           0.50275            0.1585   \n",
       "\n",
       "                     soi_window4_lag16  soi_window6_lag6  soi_window6_lag12  \\\n",
       "1867-12-01 00:00:00            0.13675          0.133167           0.054833   \n",
       "1868-01-01 00:00:00            0.15050          0.076667           0.084000   \n",
       "1868-02-01 00:00:00            0.12575          0.016500           0.187833   \n",
       "1868-03-01 00:00:00            0.07400          0.109333           0.080333   \n",
       "1868-04-01 00:00:00            0.03850          0.211333           0.044000   \n",
       "\n",
       "                     soi_window6_lag18  soi_window8_lag8  soi_window8_lag16  \\\n",
       "1867-12-01 00:00:00           0.169500          0.074000           0.149000   \n",
       "1868-01-01 00:00:00           0.160333          0.071250           0.154500   \n",
       "1868-02-01 00:00:00           0.105833          0.078125           0.120375   \n",
       "1868-03-01 00:00:00           0.136833          0.083500           0.105375   \n",
       "1868-04-01 00:00:00           0.145833          0.134000           0.087625   \n",
       "\n",
       "                     soi_window10_lag10  \n",
       "1867-12-01 00:00:00              0.1674  \n",
       "1868-01-01 00:00:00              0.1084  \n",
       "1868-02-01 00:00:00              0.0767  \n",
       "1868-03-01 00:00:00              0.0844  \n",
       "1868-04-01 00:00:00              0.0953  \n",
       "\n",
       "[5 rows x 50 columns]"
      ]
     },
     "execution_count": 24,
     "metadata": {},
     "output_type": "execute_result"
    }
   ],
   "source": [
    "rfe_fit = rfe.fit(X_train, y_train)\n",
    "print rfe_fit.n_features_\n",
    "print \"As an example, the last remaining features were:\"\n",
    "X_train.loc[:, rfe_fit.ranking_<=1].head()"
   ]
  },
  {
   "cell_type": "markdown",
   "metadata": {},
   "source": [
    "Now, per step, we determine the cross val score using the features that were still remaining at that step. This gives a good evaluation of those features, of which we can then select the best:"
   ]
  },
  {
   "cell_type": "code",
   "execution_count": 25,
   "metadata": {
    "collapsed": false
   },
   "outputs": [],
   "source": [
    "rfe_all = [np.mean(cross_val(\n",
    "                                model_best, \n",
    "                                X_train.loc[:, rfe_fit.ranking_<=i], \n",
    "                                y_train, \n",
    "                                cv_count=3))\n",
    "     for i in range(1, max(rfe_fit.ranking_))]\n",
    "best_index = np.array(rfe_all).argsort()[::-1][0]"
   ]
  },
  {
   "cell_type": "markdown",
   "metadata": {},
   "source": [
    "We now define two variables to indicate the selected features:\n",
    " * `column_mask` : an indexer to be used on the pandas dataframe to select columns\n",
    " * `X_sub_train` : The full train dataset (`X_train`), but only the selected features\n",
    " * `X_sub_test` : The train dataset (`X_test`), but only the selected features"
   ]
  },
  {
   "cell_type": "code",
   "execution_count": 26,
   "metadata": {
    "collapsed": false,
    "scrolled": true
   },
   "outputs": [
    {
     "name": "stdout",
     "output_type": "stream",
     "text": [
      "Best index          = 1\n",
      "Best nr of features = 55\n",
      "Which gives score   = -53.3579157082\n",
      "Column names        = ['soi_window1' 'recruit_window1' 'soi_window2' 'recruit_window2'\n",
      " 'soi_window3' 'soi_window4' 'soi_window5' 'soi_window6' 'soi_window7'\n",
      " 'soi_window8' 'soi_window9' 'soi_window10' 'soi_window11' 'soi_lag0'\n",
      " 'recruit_lag0' 'soi_lag1' 'recruit_lag1' 'soi_lag2' 'soi_lag3' 'soi_lag4'\n",
      " 'soi_lag5' 'soi_lag6' 'recruit_lag6' 'soi_lag7' 'soi_lag8' 'soi_lag9'\n",
      " 'soi_lag10' 'soi_lag11' 'soi_lag12' 'soi_lag13' 'soi_lag14' 'soi_lag15'\n",
      " 'soi_lag16' 'soi_lag17' 'soi_lag18' 'soi_lag19' 'soi_window2_lag2'\n",
      " 'soi_window2_lag4' 'recruit_window2_lag4' 'soi_window2_lag6'\n",
      " 'soi_window2_lag8' 'soi_window2_lag10' 'soi_window2_lag12'\n",
      " 'soi_window2_lag14' 'soi_window2_lag16' 'soi_window2_lag18'\n",
      " 'soi_window4_lag4' 'soi_window4_lag8' 'soi_window4_lag16'\n",
      " 'soi_window6_lag6' 'soi_window6_lag12' 'soi_window6_lag18'\n",
      " 'soi_window8_lag8' 'soi_window8_lag16' 'soi_window10_lag10']\n",
      "Scores (higher is better);\n",
      "cv train:\t-22.0732510886\n",
      "cv test:\t-50.7587373495\n"
     ]
    }
   ],
   "source": [
    "column_mask = rfe_fit.ranking_<=(best_index+1)\n",
    "X_sub_train = X_train.loc[:, column_mask]\n",
    "X_sub_test = X_test.loc[:, column_mask]\n",
    "print 'Best index          = {}'.format(best_index)\n",
    "print 'Best nr of features = {}'.format(sum(column_mask))\n",
    "print 'Which gives score   = {}'.format(rfe_all[best_index])\n",
    "\n",
    "print 'Column names        = {}'.format(X_train.columns[column_mask].values)\n",
    "print \"Scores (higher is better);\"\n",
    "print \"cv train:\\t{}\".format(np.mean(cross_val_train(model_best, X_sub_train, y_train, cv_count=10)))\n",
    "print \"cv test:\\t{}\".format(np.mean(cross_val(model_best, X_sub_train, y_train, cv_count=10)))"
   ]
  },
  {
   "cell_type": "markdown",
   "metadata": {},
   "source": [
    "---\n",
    "## 7 - Final score on the test set\n",
    "When you are done tuning and selection, it is time to evaluate the performance on a hold out set.\n",
    "\n",
    "To easily print the same measurements for different configurations, we define a helper function here:\n",
    "> Here we multiply the `model_score` by -1 to get the score comparable to the previous cross validations  \n",
    "> Note that the holdout test score will very likely be worse than the cv test score. One reason is that all meta params were selected to optimize that test score."
   ]
  },
  {
   "cell_type": "code",
   "execution_count": 27,
   "metadata": {
    "collapsed": false
   },
   "outputs": [],
   "source": [
    "def final_describe(model, train, test):\n",
    "    \"\"\"Evaluates a model on the final test set. For comparison, also (cv) measurements are given about the train set.\n",
    "    model is the pandas pipeline that is evaluated\n",
    "    train is the train dataset (with more/less features)\n",
    "    test is the test dataset (with the same features as x_train)\n",
    "    \"\"\"\n",
    "    # first some cross validation measurements\n",
    "    print \"cross validated (within train set)\"\n",
    "    print \"cv train:\\t{}\".format(np.mean(cross_val_train(model, train, y_train, cv_count=10)))\n",
    "    print \"cv test:\\t{}\".format(np.mean(cross_val(model, train, y_train, cv_count=10)))\n",
    "    # first fit the model on the FULL train set\n",
    "    fit = model.fit(train, y_train)\n",
    "    test_predictions = fit.predict(test)\n",
    "    print 'full train:\\t{}'.format(-model_score(y_train, fit.predict(train)))\n",
    "    print \"After fitting on full train set, evaluating on holdout set:\"\n",
    "    print 'Holdout test:\\t{}'.format(-model_score(y_test, test_predictions))\n",
    "    print 'Holdout r2:\\t{}'.format(r2_score(y_test, test_predictions))"
   ]
  },
  {
   "cell_type": "markdown",
   "metadata": {},
   "source": [
    "# Conclusion"
   ]
  },
  {
   "cell_type": "markdown",
   "metadata": {},
   "source": [
    "### Best model on selected features"
   ]
  },
  {
   "cell_type": "code",
   "execution_count": 28,
   "metadata": {
    "collapsed": false
   },
   "outputs": [
    {
     "data": {
      "text/plain": [
       "Ridge(alpha=2.25, copy_X=True, fit_intercept=True, max_iter=None,\n",
       "   normalize=False, random_state=None, solver='auto', tol=0.001)"
      ]
     },
     "execution_count": 28,
     "metadata": {},
     "output_type": "execute_result"
    }
   ],
   "source": [
    "model_best"
   ]
  },
  {
   "cell_type": "code",
   "execution_count": 29,
   "metadata": {
    "collapsed": false
   },
   "outputs": [
    {
     "name": "stdout",
     "output_type": "stream",
     "text": [
      "cross validated (within train set)\n",
      "cv train:\t-22.0732510886\n",
      "cv test:\t-50.7587373495\n",
      "full train:\t-36.2309930992\n",
      "After fitting on full train set, evaluating on holdout set:\n",
      "Holdout test:\t-82.5438246846\n",
      "Holdout r2:\t0.782857807464\n"
     ]
    }
   ],
   "source": [
    "final_describe(model_best, X_sub_train, X_sub_test)"
   ]
  },
  {
   "cell_type": "code",
   "execution_count": 30,
   "metadata": {
    "collapsed": false
   },
   "outputs": [
    {
     "data": {
      "text/plain": [
       "<matplotlib.axes._subplots.AxesSubplot at 0x112678f10>"
      ]
     },
     "execution_count": 30,
     "metadata": {},
     "output_type": "execute_result"
    },
    {
     "data": {
      "image/png": "[encoded data removed]",
      "text/plain": [
       "<matplotlib.figure.Figure at 0x103fbc2d0>"
      ]
     },
     "metadata": {},
     "output_type": "display_data"
    }
   ],
   "source": [
    "fit = model_best.fit(X_sub_train, y_train)\n",
    "test_predictions = fit.predict(X_sub_test)\n",
    "result = pd.DataFrame({\"y_pred\":test_predictions, \"y_real\":y_test})\n",
    "result.plot()"
   ]
  },
  {
   "cell_type": "markdown",
   "metadata": {},
   "source": [
    "### Best model on all features"
   ]
  },
  {
   "cell_type": "code",
   "execution_count": 31,
   "metadata": {
    "collapsed": false
   },
   "outputs": [
    {
     "name": "stdout",
     "output_type": "stream",
     "text": [
      "cross validated (within train set)\n",
      "cv train:\t-19.8757143839\n",
      "cv test:\t-75.2816737849\n",
      "full train:\t-34.3089012626\n",
      "After fitting on full train set, evaluating on holdout set:\n",
      "Holdout test:\t-85.3652616689\n",
      "Holdout r2:\t0.775435653049\n"
     ]
    }
   ],
   "source": [
    "final_describe(model_best, X_train, X_test)"
   ]
  },
  {
   "cell_type": "markdown",
   "metadata": {},
   "source": [
    "### Alternative model on all features"
   ]
  },
  {
   "cell_type": "code",
   "execution_count": 32,
   "metadata": {
    "collapsed": false
   },
   "outputs": [
    {
     "name": "stdout",
     "output_type": "stream",
     "text": [
      "cross validated (within train set)\n",
      "cv train:\t-17.8307653117\n",
      "cv test:\t-63.3487305462\n",
      "full train:\t-33.9802811859\n",
      "After fitting on full train set, evaluating on holdout set:\n",
      "Holdout test:\t-87.9531175786\n",
      "Holdout r2:\t0.76862796382\n"
     ]
    }
   ],
   "source": [
    "final_describe(alternative, X_train, X_test)"
   ]
  },
  {
   "cell_type": "markdown",
   "metadata": {},
   "source": [
    "### Initial (linear) model on all features"
   ]
  },
  {
   "cell_type": "code",
   "execution_count": 33,
   "metadata": {
    "collapsed": false
   },
   "outputs": [
    {
     "name": "stdout",
     "output_type": "stream",
     "text": [
      "cross validated (within train set)\n",
      "cv train:\t-15.9144580059\n",
      "cv test:\t-215.396484184\n",
      "full train:\t-33.7352570243\n",
      "After fitting on full train set, evaluating on holdout set:\n",
      "Holdout test:\t-91.62601354\n",
      "Holdout r2:\t0.758965936587\n"
     ]
    }
   ],
   "source": [
    "final_describe(linear_regression, X_train, X_test)"
   ]
  }
 ],
 "metadata": {
  "anaconda-cloud": {},
  "kernelspec": {
   "display_name": "Python [conda env:bdranalytics]",
   "language": "python",
   "name": "conda-env-bdranalytics-py"
  },
  "language_info": {
   "codemirror_mode": {
    "name": "ipython",
    "version": 2
   },
   "file_extension": ".py",
   "mimetype": "text/x-python",
   "name": "python",
   "nbconvert_exporter": "python",
   "pygments_lexer": "ipython2",
   "version": "2.7.13"
  }
 },
 "nbformat": 4,
 "nbformat_minor": 0
}
